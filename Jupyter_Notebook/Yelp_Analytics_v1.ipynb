{
 "cells": [
  {
   "cell_type": "markdown",
   "metadata": {},
   "source": [
    "# Yelp Analytics\n",
    "\n",
    "## Customer review sentiment analysis & restaurant classification"
   ]
  },
  {
   "cell_type": "markdown",
   "metadata": {},
   "source": [
    " "
   ]
  },
  {
   "cell_type": "markdown",
   "metadata": {},
   "source": [
    "### Step 1. Load Dependencies and Datasets"
   ]
  },
  {
   "cell_type": "markdown",
   "metadata": {},
   "source": [
    " "
   ]
  },
  {
   "cell_type": "code",
   "execution_count": 336,
   "metadata": {},
   "outputs": [],
   "source": [
    "## Action: \n",
    "## Loading dependencies\n",
    "\n",
    "import numpy as np\n",
    "import pandas as pd\n",
    "import matplotlib.pyplot as plt\n",
    "%matplotlib inline\n",
    "from matplotlib.colors import ListedColormap\n",
    "import seaborn as sns\n",
    "import re\n",
    "from sklearn.metrics import accuracy_score\n",
    "from sklearn.model_selection import train_test_split\n",
    "from sklearn.naive_bayes import GaussianNB\n",
    "from sklearn import svm\n",
    "from sklearn import tree\n",
    "from sklearn.neighbors import KNeighborsClassifier\n",
    "from sklearn.linear_model import LogisticRegression\n",
    "from sklearn.feature_extraction.text import CountVectorizer\n",
    "from sklearn.neural_network import MLPClassifier\n",
    "from sklearn.preprocessing import StandardScaler\n",
    "from sklearn.feature_extraction.text import TfidfVectorizer\n",
    "import nltk\n",
    "from nltk import pos_tag, pos_tag_sents\n",
    "#nltk.download('wordnet')\n",
    "from nltk.stem.wordnet import WordNetLemmatizer\n",
    "from nltk.corpus import sentiwordnet as swn\n",
    "import tensorflow as tf\n",
    "from nltk.stem import WordNetLemmatizer\n",
    "from nltk.corpus import wordnet as wn\n",
    "from nltk.corpus import sentiwordnet as swn\n",
    "from nltk import sent_tokenize, word_tokenize, pos_tag"
   ]
  },
  {
   "cell_type": "code",
   "execution_count": 137,
   "metadata": {},
   "outputs": [],
   "source": [
    "## Action: \n",
    "## Loading datasets\n",
    "\n",
    "path = \"./yelp-dataset/\"\n",
    "business = pd.read_csv(path+\"yelp_business.csv\")\n",
    "checkin = pd.read_csv(path+\"yelp_checkin.csv\")\n",
    "review = pd.read_csv(path+\"yelp_review.csv\")\n",
    "tip = pd.read_csv(path+\"yelp_tip.csv\")"
   ]
  },
  {
   "cell_type": "code",
   "execution_count": 138,
   "metadata": {},
   "outputs": [
    {
     "data": {
      "text/html": [
       "<div>\n",
       "<style scoped>\n",
       "    .dataframe tbody tr th:only-of-type {\n",
       "        vertical-align: middle;\n",
       "    }\n",
       "\n",
       "    .dataframe tbody tr th {\n",
       "        vertical-align: top;\n",
       "    }\n",
       "\n",
       "    .dataframe thead th {\n",
       "        text-align: right;\n",
       "    }\n",
       "</style>\n",
       "<table border=\"1\" class=\"dataframe\">\n",
       "  <thead>\n",
       "    <tr style=\"text-align: right;\">\n",
       "      <th></th>\n",
       "      <th>business_id</th>\n",
       "      <th>name</th>\n",
       "      <th>neighborhood</th>\n",
       "      <th>address</th>\n",
       "      <th>city</th>\n",
       "      <th>state</th>\n",
       "      <th>postal_code</th>\n",
       "      <th>latitude</th>\n",
       "      <th>longitude</th>\n",
       "      <th>stars</th>\n",
       "      <th>review_count</th>\n",
       "      <th>is_open</th>\n",
       "      <th>categories</th>\n",
       "    </tr>\n",
       "  </thead>\n",
       "  <tbody>\n",
       "    <tr>\n",
       "      <th>0</th>\n",
       "      <td>FYWN1wneV18bWNgQjJ2GNg</td>\n",
       "      <td>\"Dental by Design\"</td>\n",
       "      <td>NaN</td>\n",
       "      <td>\"4855 E Warner Rd, Ste B9\"</td>\n",
       "      <td>Ahwatukee</td>\n",
       "      <td>AZ</td>\n",
       "      <td>85044</td>\n",
       "      <td>33.330690</td>\n",
       "      <td>-111.978599</td>\n",
       "      <td>4.0</td>\n",
       "      <td>22</td>\n",
       "      <td>1</td>\n",
       "      <td>Dentists;General Dentistry;Health &amp; Medical;Or...</td>\n",
       "    </tr>\n",
       "    <tr>\n",
       "      <th>1</th>\n",
       "      <td>He-G7vWjzVUysIKrfNbPUQ</td>\n",
       "      <td>\"Stephen Szabo Salon\"</td>\n",
       "      <td>NaN</td>\n",
       "      <td>\"3101 Washington Rd\"</td>\n",
       "      <td>McMurray</td>\n",
       "      <td>PA</td>\n",
       "      <td>15317</td>\n",
       "      <td>40.291685</td>\n",
       "      <td>-80.104900</td>\n",
       "      <td>3.0</td>\n",
       "      <td>11</td>\n",
       "      <td>1</td>\n",
       "      <td>Hair Stylists;Hair Salons;Men's Hair Salons;Bl...</td>\n",
       "    </tr>\n",
       "    <tr>\n",
       "      <th>2</th>\n",
       "      <td>KQPW8lFf1y5BT2MxiSZ3QA</td>\n",
       "      <td>\"Western Motor Vehicle\"</td>\n",
       "      <td>NaN</td>\n",
       "      <td>\"6025 N 27th Ave, Ste 1\"</td>\n",
       "      <td>Phoenix</td>\n",
       "      <td>AZ</td>\n",
       "      <td>85017</td>\n",
       "      <td>33.524903</td>\n",
       "      <td>-112.115310</td>\n",
       "      <td>1.5</td>\n",
       "      <td>18</td>\n",
       "      <td>1</td>\n",
       "      <td>Departments of Motor Vehicles;Public Services ...</td>\n",
       "    </tr>\n",
       "  </tbody>\n",
       "</table>\n",
       "</div>"
      ],
      "text/plain": [
       "              business_id                     name neighborhood  \\\n",
       "0  FYWN1wneV18bWNgQjJ2GNg       \"Dental by Design\"          NaN   \n",
       "1  He-G7vWjzVUysIKrfNbPUQ    \"Stephen Szabo Salon\"          NaN   \n",
       "2  KQPW8lFf1y5BT2MxiSZ3QA  \"Western Motor Vehicle\"          NaN   \n",
       "\n",
       "                      address       city state postal_code   latitude  \\\n",
       "0  \"4855 E Warner Rd, Ste B9\"  Ahwatukee    AZ       85044  33.330690   \n",
       "1        \"3101 Washington Rd\"   McMurray    PA       15317  40.291685   \n",
       "2    \"6025 N 27th Ave, Ste 1\"    Phoenix    AZ       85017  33.524903   \n",
       "\n",
       "    longitude  stars  review_count  is_open  \\\n",
       "0 -111.978599    4.0            22        1   \n",
       "1  -80.104900    3.0            11        1   \n",
       "2 -112.115310    1.5            18        1   \n",
       "\n",
       "                                          categories  \n",
       "0  Dentists;General Dentistry;Health & Medical;Or...  \n",
       "1  Hair Stylists;Hair Salons;Men's Hair Salons;Bl...  \n",
       "2  Departments of Motor Vehicles;Public Services ...  "
      ]
     },
     "execution_count": 138,
     "metadata": {},
     "output_type": "execute_result"
    }
   ],
   "source": [
    "business.head(3)"
   ]
  },
  {
   "cell_type": "code",
   "execution_count": 139,
   "metadata": {},
   "outputs": [
    {
     "data": {
      "text/html": [
       "<div>\n",
       "<style scoped>\n",
       "    .dataframe tbody tr th:only-of-type {\n",
       "        vertical-align: middle;\n",
       "    }\n",
       "\n",
       "    .dataframe tbody tr th {\n",
       "        vertical-align: top;\n",
       "    }\n",
       "\n",
       "    .dataframe thead th {\n",
       "        text-align: right;\n",
       "    }\n",
       "</style>\n",
       "<table border=\"1\" class=\"dataframe\">\n",
       "  <thead>\n",
       "    <tr style=\"text-align: right;\">\n",
       "      <th></th>\n",
       "      <th>business_id</th>\n",
       "      <th>weekday</th>\n",
       "      <th>hour</th>\n",
       "      <th>checkins</th>\n",
       "    </tr>\n",
       "  </thead>\n",
       "  <tbody>\n",
       "    <tr>\n",
       "      <th>0</th>\n",
       "      <td>3Mc-LxcqeguOXOVT_2ZtCg</td>\n",
       "      <td>Tue</td>\n",
       "      <td>0:00</td>\n",
       "      <td>12</td>\n",
       "    </tr>\n",
       "    <tr>\n",
       "      <th>1</th>\n",
       "      <td>SVFx6_epO22bZTZnKwlX7g</td>\n",
       "      <td>Wed</td>\n",
       "      <td>0:00</td>\n",
       "      <td>4</td>\n",
       "    </tr>\n",
       "    <tr>\n",
       "      <th>2</th>\n",
       "      <td>vW9aLivd4-IorAfStzsHww</td>\n",
       "      <td>Tue</td>\n",
       "      <td>14:00</td>\n",
       "      <td>1</td>\n",
       "    </tr>\n",
       "  </tbody>\n",
       "</table>\n",
       "</div>"
      ],
      "text/plain": [
       "              business_id weekday   hour  checkins\n",
       "0  3Mc-LxcqeguOXOVT_2ZtCg     Tue   0:00        12\n",
       "1  SVFx6_epO22bZTZnKwlX7g     Wed   0:00         4\n",
       "2  vW9aLivd4-IorAfStzsHww     Tue  14:00         1"
      ]
     },
     "execution_count": 139,
     "metadata": {},
     "output_type": "execute_result"
    }
   ],
   "source": [
    "checkin.head(3)"
   ]
  },
  {
   "cell_type": "code",
   "execution_count": 140,
   "metadata": {},
   "outputs": [
    {
     "data": {
      "text/html": [
       "<div>\n",
       "<style scoped>\n",
       "    .dataframe tbody tr th:only-of-type {\n",
       "        vertical-align: middle;\n",
       "    }\n",
       "\n",
       "    .dataframe tbody tr th {\n",
       "        vertical-align: top;\n",
       "    }\n",
       "\n",
       "    .dataframe thead th {\n",
       "        text-align: right;\n",
       "    }\n",
       "</style>\n",
       "<table border=\"1\" class=\"dataframe\">\n",
       "  <thead>\n",
       "    <tr style=\"text-align: right;\">\n",
       "      <th></th>\n",
       "      <th>review_id</th>\n",
       "      <th>user_id</th>\n",
       "      <th>business_id</th>\n",
       "      <th>stars</th>\n",
       "      <th>date</th>\n",
       "      <th>text</th>\n",
       "      <th>useful</th>\n",
       "      <th>funny</th>\n",
       "      <th>cool</th>\n",
       "    </tr>\n",
       "  </thead>\n",
       "  <tbody>\n",
       "    <tr>\n",
       "      <th>0</th>\n",
       "      <td>vkVSCC7xljjrAI4UGfnKEQ</td>\n",
       "      <td>bv2nCi5Qv5vroFiqKGopiw</td>\n",
       "      <td>AEx2SYEUJmTxVVB18LlCwA</td>\n",
       "      <td>5</td>\n",
       "      <td>2016-05-28</td>\n",
       "      <td>Super simple place but amazing nonetheless. It...</td>\n",
       "      <td>0</td>\n",
       "      <td>0</td>\n",
       "      <td>0</td>\n",
       "    </tr>\n",
       "    <tr>\n",
       "      <th>1</th>\n",
       "      <td>n6QzIUObkYshz4dz2QRJTw</td>\n",
       "      <td>bv2nCi5Qv5vroFiqKGopiw</td>\n",
       "      <td>VR6GpWIda3SfvPC-lg9H3w</td>\n",
       "      <td>5</td>\n",
       "      <td>2016-05-28</td>\n",
       "      <td>Small unassuming place that changes their menu...</td>\n",
       "      <td>0</td>\n",
       "      <td>0</td>\n",
       "      <td>0</td>\n",
       "    </tr>\n",
       "    <tr>\n",
       "      <th>2</th>\n",
       "      <td>MV3CcKScW05u5LVfF6ok0g</td>\n",
       "      <td>bv2nCi5Qv5vroFiqKGopiw</td>\n",
       "      <td>CKC0-MOWMqoeWf6s-szl8g</td>\n",
       "      <td>5</td>\n",
       "      <td>2016-05-28</td>\n",
       "      <td>Lester's is located in a beautiful neighborhoo...</td>\n",
       "      <td>0</td>\n",
       "      <td>0</td>\n",
       "      <td>0</td>\n",
       "    </tr>\n",
       "  </tbody>\n",
       "</table>\n",
       "</div>"
      ],
      "text/plain": [
       "                review_id                 user_id             business_id  \\\n",
       "0  vkVSCC7xljjrAI4UGfnKEQ  bv2nCi5Qv5vroFiqKGopiw  AEx2SYEUJmTxVVB18LlCwA   \n",
       "1  n6QzIUObkYshz4dz2QRJTw  bv2nCi5Qv5vroFiqKGopiw  VR6GpWIda3SfvPC-lg9H3w   \n",
       "2  MV3CcKScW05u5LVfF6ok0g  bv2nCi5Qv5vroFiqKGopiw  CKC0-MOWMqoeWf6s-szl8g   \n",
       "\n",
       "   stars        date                                               text  \\\n",
       "0      5  2016-05-28  Super simple place but amazing nonetheless. It...   \n",
       "1      5  2016-05-28  Small unassuming place that changes their menu...   \n",
       "2      5  2016-05-28  Lester's is located in a beautiful neighborhoo...   \n",
       "\n",
       "   useful  funny  cool  \n",
       "0       0      0     0  \n",
       "1       0      0     0  \n",
       "2       0      0     0  "
      ]
     },
     "execution_count": 140,
     "metadata": {},
     "output_type": "execute_result"
    }
   ],
   "source": [
    "review.head(3)"
   ]
  },
  {
   "cell_type": "code",
   "execution_count": 141,
   "metadata": {},
   "outputs": [
    {
     "data": {
      "text/html": [
       "<div>\n",
       "<style scoped>\n",
       "    .dataframe tbody tr th:only-of-type {\n",
       "        vertical-align: middle;\n",
       "    }\n",
       "\n",
       "    .dataframe tbody tr th {\n",
       "        vertical-align: top;\n",
       "    }\n",
       "\n",
       "    .dataframe thead th {\n",
       "        text-align: right;\n",
       "    }\n",
       "</style>\n",
       "<table border=\"1\" class=\"dataframe\">\n",
       "  <thead>\n",
       "    <tr style=\"text-align: right;\">\n",
       "      <th></th>\n",
       "      <th>text</th>\n",
       "      <th>date</th>\n",
       "      <th>likes</th>\n",
       "      <th>business_id</th>\n",
       "      <th>user_id</th>\n",
       "    </tr>\n",
       "  </thead>\n",
       "  <tbody>\n",
       "    <tr>\n",
       "      <th>0</th>\n",
       "      <td>Great breakfast large portions and friendly wa...</td>\n",
       "      <td>2015-08-12</td>\n",
       "      <td>0</td>\n",
       "      <td>jH19V2I9fIslnNhDzPmdkA</td>\n",
       "      <td>ZcLKXikTHYOnYt5VYRO5sg</td>\n",
       "    </tr>\n",
       "    <tr>\n",
       "      <th>1</th>\n",
       "      <td>Nice place. Great staff.  A fixture in the tow...</td>\n",
       "      <td>2014-06-20</td>\n",
       "      <td>0</td>\n",
       "      <td>dAa0hB2yrnHzVmsCkN4YvQ</td>\n",
       "      <td>oaYhjqBbh18ZhU0bpyzSuw</td>\n",
       "    </tr>\n",
       "    <tr>\n",
       "      <th>2</th>\n",
       "      <td>Happy hour 5-7 Monday - Friday</td>\n",
       "      <td>2016-10-12</td>\n",
       "      <td>0</td>\n",
       "      <td>dAa0hB2yrnHzVmsCkN4YvQ</td>\n",
       "      <td>ulQ8Nyj7jCUR8M83SUMoRQ</td>\n",
       "    </tr>\n",
       "  </tbody>\n",
       "</table>\n",
       "</div>"
      ],
      "text/plain": [
       "                                                text        date  likes  \\\n",
       "0  Great breakfast large portions and friendly wa...  2015-08-12      0   \n",
       "1  Nice place. Great staff.  A fixture in the tow...  2014-06-20      0   \n",
       "2                     Happy hour 5-7 Monday - Friday  2016-10-12      0   \n",
       "\n",
       "              business_id                 user_id  \n",
       "0  jH19V2I9fIslnNhDzPmdkA  ZcLKXikTHYOnYt5VYRO5sg  \n",
       "1  dAa0hB2yrnHzVmsCkN4YvQ  oaYhjqBbh18ZhU0bpyzSuw  \n",
       "2  dAa0hB2yrnHzVmsCkN4YvQ  ulQ8Nyj7jCUR8M83SUMoRQ  "
      ]
     },
     "execution_count": 141,
     "metadata": {},
     "output_type": "execute_result"
    }
   ],
   "source": [
    "tip.head(3)"
   ]
  },
  {
   "cell_type": "markdown",
   "metadata": {},
   "source": [
    " "
   ]
  },
  {
   "cell_type": "markdown",
   "metadata": {},
   "source": [
    "### Step 2. Redundancy"
   ]
  },
  {
   "cell_type": "markdown",
   "metadata": {},
   "source": [
    " "
   ]
  },
  {
   "cell_type": "code",
   "execution_count": 142,
   "metadata": {},
   "outputs": [],
   "source": [
    "## Action: \n",
    "## Create copies of datasets for redundancy\n",
    "\n",
    "business_copy = business\n",
    "checkin_copy = checkin\n",
    "review_copy = review\n",
    "tip_copy = tip"
   ]
  },
  {
   "cell_type": "markdown",
   "metadata": {},
   "source": [
    " "
   ]
  },
  {
   "cell_type": "markdown",
   "metadata": {},
   "source": [
    "### Step 3. Data Exploration and Quality Assessment"
   ]
  },
  {
   "cell_type": "markdown",
   "metadata": {},
   "source": [
    " "
   ]
  },
  {
   "cell_type": "markdown",
   "metadata": {},
   "source": [
    "###### 3a. Business"
   ]
  },
  {
   "cell_type": "markdown",
   "metadata": {},
   "source": [
    " "
   ]
  },
  {
   "cell_type": "code",
   "execution_count": 143,
   "metadata": {},
   "outputs": [
    {
     "data": {
      "text/plain": [
       "(174567, 13)"
      ]
     },
     "execution_count": 143,
     "metadata": {},
     "output_type": "execute_result"
    }
   ],
   "source": [
    "## Action:\n",
    "## Check shape of dataframe (#rows, #columns)\n",
    "business.shape"
   ]
  },
  {
   "cell_type": "code",
   "execution_count": 144,
   "metadata": {},
   "outputs": [
    {
     "data": {
      "text/plain": [
       "174567"
      ]
     },
     "execution_count": 144,
     "metadata": {},
     "output_type": "execute_result"
    }
   ],
   "source": [
    "## Action:\n",
    "## Check distinct count of businesses \n",
    "business.business_id.nunique()"
   ]
  },
  {
   "cell_type": "code",
   "execution_count": 145,
   "metadata": {},
   "outputs": [
    {
     "data": {
      "text/plain": [
       "business_id          0\n",
       "name                 0\n",
       "neighborhood    106552\n",
       "address              0\n",
       "city                 1\n",
       "state                1\n",
       "postal_code        623\n",
       "latitude             1\n",
       "longitude            1\n",
       "stars                0\n",
       "review_count         0\n",
       "is_open              0\n",
       "categories           0\n",
       "dtype: int64"
      ]
     },
     "execution_count": 145,
     "metadata": {},
     "output_type": "execute_result"
    }
   ],
   "source": [
    "## Action:\n",
    "## Check for missing values\n",
    "business.isnull().sum()"
   ]
  },
  {
   "cell_type": "code",
   "execution_count": 146,
   "metadata": {},
   "outputs": [],
   "source": [
    "## Observation:\n",
    "## A very large number of businesses with no duplication in the dataset\n",
    "## Very large number of missing values in neighbourhood and postal_code. \n",
    "## It would be wise to remove these columns altogether. Location of restaurants is a significant attribute \n",
    "## and can be accounted for by latitude, longitude, and city\n",
    "## Other columns having one missing value each are city, state, latitude, and longitude. "
   ]
  },
  {
   "cell_type": "markdown",
   "metadata": {},
   "source": [
    "###### 3b. Checkin"
   ]
  },
  {
   "cell_type": "markdown",
   "metadata": {},
   "source": [
    " "
   ]
  },
  {
   "cell_type": "code",
   "execution_count": 147,
   "metadata": {},
   "outputs": [
    {
     "data": {
      "text/plain": [
       "(3911218, 4)"
      ]
     },
     "execution_count": 147,
     "metadata": {},
     "output_type": "execute_result"
    }
   ],
   "source": [
    "## Action:\n",
    "## Check shape of dataframe (#rows, #columns)\n",
    "checkin.shape"
   ]
  },
  {
   "cell_type": "code",
   "execution_count": 148,
   "metadata": {},
   "outputs": [
    {
     "data": {
      "text/plain": [
       "146350"
      ]
     },
     "execution_count": 148,
     "metadata": {},
     "output_type": "execute_result"
    }
   ],
   "source": [
    "## Action:\n",
    "## Check distinct count of businesses \n",
    "checkin.business_id.nunique()"
   ]
  },
  {
   "cell_type": "code",
   "execution_count": 149,
   "metadata": {},
   "outputs": [
    {
     "data": {
      "text/plain": [
       "business_id    0\n",
       "weekday        0\n",
       "hour           0\n",
       "checkins       0\n",
       "dtype: int64"
      ]
     },
     "execution_count": 149,
     "metadata": {},
     "output_type": "execute_result"
    }
   ],
   "source": [
    "## Action:\n",
    "## Check for missing values\n",
    "checkin.isnull().sum()"
   ]
  },
  {
   "cell_type": "code",
   "execution_count": 150,
   "metadata": {},
   "outputs": [],
   "source": [
    "## Observation:\n",
    "## A very large number of checkins with duplication of businesses in the dataset as expected.\n",
    "## This resonates with my intuition that each business may have zero or multiple rows with individual checkin data \n",
    "## And there is no checkin_id or any other single column primary key\n",
    "## Moreover, the count of businesses here (146350) is less than the total count of businesses (174567)\n",
    "## which means that not all businesses have checkins\n",
    "## Best part - no missing values in this dataset!"
   ]
  },
  {
   "cell_type": "markdown",
   "metadata": {},
   "source": [
    "###### 3c. Review"
   ]
  },
  {
   "cell_type": "markdown",
   "metadata": {},
   "source": [
    " "
   ]
  },
  {
   "cell_type": "code",
   "execution_count": 151,
   "metadata": {},
   "outputs": [
    {
     "data": {
      "text/plain": [
       "(5261668, 9)"
      ]
     },
     "execution_count": 151,
     "metadata": {},
     "output_type": "execute_result"
    }
   ],
   "source": [
    "## Action:\n",
    "## Check shape of dataframe (#rows, #columns)\n",
    "review.shape"
   ]
  },
  {
   "cell_type": "code",
   "execution_count": 152,
   "metadata": {},
   "outputs": [
    {
     "data": {
      "text/plain": [
       "5261668"
      ]
     },
     "execution_count": 152,
     "metadata": {},
     "output_type": "execute_result"
    }
   ],
   "source": [
    "## Action:\n",
    "## Check distinct count of reviews \n",
    "review.review_id.nunique()"
   ]
  },
  {
   "cell_type": "code",
   "execution_count": 153,
   "metadata": {},
   "outputs": [
    {
     "data": {
      "text/plain": [
       "174567"
      ]
     },
     "execution_count": 153,
     "metadata": {},
     "output_type": "execute_result"
    }
   ],
   "source": [
    "## Action:\n",
    "## Check distinct count of businesses \n",
    "review.business_id.nunique()"
   ]
  },
  {
   "cell_type": "code",
   "execution_count": 154,
   "metadata": {},
   "outputs": [
    {
     "data": {
      "text/plain": [
       "review_id      0\n",
       "user_id        0\n",
       "business_id    0\n",
       "stars          0\n",
       "date           0\n",
       "text           0\n",
       "useful         0\n",
       "funny          0\n",
       "cool           0\n",
       "dtype: int64"
      ]
     },
     "execution_count": 154,
     "metadata": {},
     "output_type": "execute_result"
    }
   ],
   "source": [
    "## Action:\n",
    "## Check for missing values\n",
    "review.isnull().sum()"
   ]
  },
  {
   "cell_type": "code",
   "execution_count": 155,
   "metadata": {},
   "outputs": [],
   "source": [
    "## Observation:\n",
    "## Extremely large number of reviews with duplication of businesses in the dataset as expected.\n",
    "## This is a heavy dataset given that it has text reviews in each record\n",
    "## Each business may have zero or multiple rows with individual review data \n",
    "## review_id is the primary key and business_id is the foreign key (one - many mapping)\n",
    "## Total count of businesses here matches the actual total count (174567), so all businesses have at leats one review\n",
    "## No missing values in this dataset either!"
   ]
  },
  {
   "cell_type": "markdown",
   "metadata": {},
   "source": [
    "###### 3d. Tip"
   ]
  },
  {
   "cell_type": "markdown",
   "metadata": {},
   "source": [
    " "
   ]
  },
  {
   "cell_type": "code",
   "execution_count": 156,
   "metadata": {},
   "outputs": [
    {
     "data": {
      "text/plain": [
       "(1098324, 5)"
      ]
     },
     "execution_count": 156,
     "metadata": {},
     "output_type": "execute_result"
    }
   ],
   "source": [
    "## Action:\n",
    "## Check shape of dataframe (#rows, #columns)\n",
    "tip.shape"
   ]
  },
  {
   "cell_type": "code",
   "execution_count": 157,
   "metadata": {},
   "outputs": [
    {
     "data": {
      "text/plain": [
       "112365"
      ]
     },
     "execution_count": 157,
     "metadata": {},
     "output_type": "execute_result"
    }
   ],
   "source": [
    "## Action:\n",
    "## Check distinct count of businesses \n",
    "tip.business_id.nunique()"
   ]
  },
  {
   "cell_type": "code",
   "execution_count": 158,
   "metadata": {},
   "outputs": [
    {
     "data": {
      "text/plain": [
       "text           2\n",
       "date           0\n",
       "likes          0\n",
       "business_id    0\n",
       "user_id        0\n",
       "dtype: int64"
      ]
     },
     "execution_count": 158,
     "metadata": {},
     "output_type": "execute_result"
    }
   ],
   "source": [
    "## Action:\n",
    "## Check for missing values\n",
    "tip.isnull().sum()"
   ]
  },
  {
   "cell_type": "code",
   "execution_count": 159,
   "metadata": {},
   "outputs": [],
   "source": [
    "## Observation:\n",
    "## A very large number of tip data with duplication of businesses in the dataset as expected.\n",
    "## Each business may have zero or multiple rows with individual tip data \n",
    "## And there is no tip_id or any other single column primary key\n",
    "## Count of businesses here (112365) is way less than the total count of businesses (174567)\n",
    "## which means that not all businesses have tip data (surprising as this should be available for all but maybe \n",
    "## not all restaurants have digital payments or records)\n",
    "## Two missing values in this dataset for text and date columns each"
   ]
  },
  {
   "cell_type": "markdown",
   "metadata": {},
   "source": [
    "### Step 4. Data Preparation"
   ]
  },
  {
   "cell_type": "markdown",
   "metadata": {},
   "source": [
    " "
   ]
  },
  {
   "cell_type": "code",
   "execution_count": 160,
   "metadata": {},
   "outputs": [],
   "source": [
    "## Sidenote:\n",
    "## Ideally, data cleaning and handling missing data precedes this step. However, the goal of this project is to\n",
    "## perform a deep analysis on 99 restaurants (extremely small dataset as compared to the current size). \n",
    "## Therefore, reducing and creating and aggregated dataset first is the approach I'm going forward with \n",
    "## in order to manage both computing resource and time wisely"
   ]
  },
  {
   "cell_type": "markdown",
   "metadata": {},
   "source": [
    "###### 4a. Downsize business dataframe"
   ]
  },
  {
   "cell_type": "markdown",
   "metadata": {},
   "source": [
    " "
   ]
  },
  {
   "cell_type": "code",
   "execution_count": 161,
   "metadata": {},
   "outputs": [
    {
     "data": {
      "text/html": [
       "<div>\n",
       "<style scoped>\n",
       "    .dataframe tbody tr th:only-of-type {\n",
       "        vertical-align: middle;\n",
       "    }\n",
       "\n",
       "    .dataframe tbody tr th {\n",
       "        vertical-align: top;\n",
       "    }\n",
       "\n",
       "    .dataframe thead th {\n",
       "        text-align: right;\n",
       "    }\n",
       "</style>\n",
       "<table border=\"1\" class=\"dataframe\">\n",
       "  <thead>\n",
       "    <tr style=\"text-align: right;\">\n",
       "      <th></th>\n",
       "      <th>business_id</th>\n",
       "      <th>name</th>\n",
       "      <th>city</th>\n",
       "      <th>state</th>\n",
       "      <th>latitude</th>\n",
       "      <th>longitude</th>\n",
       "      <th>stars</th>\n",
       "      <th>review_count</th>\n",
       "    </tr>\n",
       "  </thead>\n",
       "  <tbody>\n",
       "    <tr>\n",
       "      <th>0</th>\n",
       "      <td>4Jv9IJsVgwovMqv8YQJF1g</td>\n",
       "      <td>\"Cc's Creations\"</td>\n",
       "      <td>Woodbridge</td>\n",
       "      <td>ON</td>\n",
       "      <td>43.784442</td>\n",
       "      <td>-79.594259</td>\n",
       "      <td>1.0</td>\n",
       "      <td>3</td>\n",
       "    </tr>\n",
       "    <tr>\n",
       "      <th>1</th>\n",
       "      <td>K-tl3k56Px2G6KRsKNyUUA</td>\n",
       "      <td>\"Subway\"</td>\n",
       "      <td>Cleveland</td>\n",
       "      <td>OH</td>\n",
       "      <td>41.438300</td>\n",
       "      <td>-81.699207</td>\n",
       "      <td>1.0</td>\n",
       "      <td>4</td>\n",
       "    </tr>\n",
       "    <tr>\n",
       "      <th>2</th>\n",
       "      <td>QcTpYpgEYSZ6vPGgz3LiDQ</td>\n",
       "      <td>\"Subway\"</td>\n",
       "      <td>Scarborough</td>\n",
       "      <td>ON</td>\n",
       "      <td>43.772917</td>\n",
       "      <td>-79.321447</td>\n",
       "      <td>1.0</td>\n",
       "      <td>3</td>\n",
       "    </tr>\n",
       "    <tr>\n",
       "      <th>3</th>\n",
       "      <td>4FdXVA-WxWwc5rmjRPJVnQ</td>\n",
       "      <td>\"McDonald's\"</td>\n",
       "      <td>Madison</td>\n",
       "      <td>WI</td>\n",
       "      <td>43.128766</td>\n",
       "      <td>-89.308580</td>\n",
       "      <td>1.0</td>\n",
       "      <td>4</td>\n",
       "    </tr>\n",
       "    <tr>\n",
       "      <th>4</th>\n",
       "      <td>e1UF53wfi3HKNmPHzc3OLg</td>\n",
       "      <td>\"Zaxby's Chicken Fingers &amp; Buffalo Wings\"</td>\n",
       "      <td>Charlotte</td>\n",
       "      <td>NC</td>\n",
       "      <td>35.163464</td>\n",
       "      <td>-80.970793</td>\n",
       "      <td>1.0</td>\n",
       "      <td>17</td>\n",
       "    </tr>\n",
       "  </tbody>\n",
       "</table>\n",
       "</div>"
      ],
      "text/plain": [
       "              business_id                                       name  \\\n",
       "0  4Jv9IJsVgwovMqv8YQJF1g                           \"Cc's Creations\"   \n",
       "1  K-tl3k56Px2G6KRsKNyUUA                                   \"Subway\"   \n",
       "2  QcTpYpgEYSZ6vPGgz3LiDQ                                   \"Subway\"   \n",
       "3  4FdXVA-WxWwc5rmjRPJVnQ                               \"McDonald's\"   \n",
       "4  e1UF53wfi3HKNmPHzc3OLg  \"Zaxby's Chicken Fingers & Buffalo Wings\"   \n",
       "\n",
       "          city state   latitude  longitude  stars  review_count  \n",
       "0   Woodbridge    ON  43.784442 -79.594259    1.0             3  \n",
       "1    Cleveland    OH  41.438300 -81.699207    1.0             4  \n",
       "2  Scarborough    ON  43.772917 -79.321447    1.0             3  \n",
       "3      Madison    WI  43.128766 -89.308580    1.0             4  \n",
       "4    Charlotte    NC  35.163464 -80.970793    1.0            17  "
      ]
     },
     "execution_count": 161,
     "metadata": {},
     "output_type": "execute_result"
    }
   ],
   "source": [
    "## Action:\n",
    "## 1. Drop businesses which are not open (is_open == 0)\n",
    "## 2. Drop businesses which are not in restaurant business (categories do not contain the keyword \"food\")\n",
    "## 3. Drop businesses which have any missing values (remember there were 5 columns with missing values)\n",
    "## 4. Create a random stratified sample of restaurants with equal weightage to 'stars' column (distinct count = 9)\n",
    "## 5. Drop unnecessary columns (neighborhood, address, postal_code, is_open, categories) and reindex\n",
    "\n",
    "def downsize_business(business):\n",
    "    business.drop(business[business.is_open == 0].index, inplace = True)\n",
    "    business.drop(business[~business['categories'].str.lower().str.contains('food')].index, inplace = True)\n",
    "    business.dropna(axis=0, how='any', inplace = True)\n",
    "    business1 = business.groupby('stars').apply(lambda x: x.sample(n=20))\n",
    "    business1.drop(business1.columns[[2, 3, 6, 11, 12]], axis=1, inplace=True)\n",
    "    business1 = business1.reset_index(drop=True)\n",
    "    return business1\n",
    "\n",
    "business1 = downsize_business(business)\n",
    "business1.head()"
   ]
  },
  {
   "cell_type": "markdown",
   "metadata": {},
   "source": [
    "###### 4b. Downsize checkin dataframe"
   ]
  },
  {
   "cell_type": "markdown",
   "metadata": {},
   "source": [
    " "
   ]
  },
  {
   "cell_type": "code",
   "execution_count": 162,
   "metadata": {},
   "outputs": [
    {
     "data": {
      "text/html": [
       "<div>\n",
       "<style scoped>\n",
       "    .dataframe tbody tr th:only-of-type {\n",
       "        vertical-align: middle;\n",
       "    }\n",
       "\n",
       "    .dataframe tbody tr th {\n",
       "        vertical-align: top;\n",
       "    }\n",
       "\n",
       "    .dataframe thead th {\n",
       "        text-align: right;\n",
       "    }\n",
       "</style>\n",
       "<table border=\"1\" class=\"dataframe\">\n",
       "  <thead>\n",
       "    <tr style=\"text-align: right;\">\n",
       "      <th></th>\n",
       "      <th>business_id</th>\n",
       "      <th>checkins</th>\n",
       "    </tr>\n",
       "  </thead>\n",
       "  <tbody>\n",
       "    <tr>\n",
       "      <th>0</th>\n",
       "      <td>-syU1HD-Iw_GEH8P5l03_A</td>\n",
       "      <td>3</td>\n",
       "    </tr>\n",
       "    <tr>\n",
       "      <th>1</th>\n",
       "      <td>06MlxbtB4ZYeg_ri02RIAQ</td>\n",
       "      <td>451</td>\n",
       "    </tr>\n",
       "    <tr>\n",
       "      <th>2</th>\n",
       "      <td>0R-6OcfG57Kg_uDro3ImPA</td>\n",
       "      <td>60</td>\n",
       "    </tr>\n",
       "    <tr>\n",
       "      <th>3</th>\n",
       "      <td>0RrHQNdsMK3jPlK4f9_wWA</td>\n",
       "      <td>32</td>\n",
       "    </tr>\n",
       "    <tr>\n",
       "      <th>4</th>\n",
       "      <td>0SYfS38_-7Mt20x9jNph_Q</td>\n",
       "      <td>18</td>\n",
       "    </tr>\n",
       "  </tbody>\n",
       "</table>\n",
       "</div>"
      ],
      "text/plain": [
       "              business_id  checkins\n",
       "0  -syU1HD-Iw_GEH8P5l03_A         3\n",
       "1  06MlxbtB4ZYeg_ri02RIAQ       451\n",
       "2  0R-6OcfG57Kg_uDro3ImPA        60\n",
       "3  0RrHQNdsMK3jPlK4f9_wWA        32\n",
       "4  0SYfS38_-7Mt20x9jNph_Q        18"
      ]
     },
     "execution_count": 162,
     "metadata": {},
     "output_type": "execute_result"
    }
   ],
   "source": [
    "## Action:\n",
    "## 1. Copy the unique list of business ids in a 'temp' variable\n",
    "## 2. Create a new dataframe checkin1 having business ids in temp\n",
    "## 3. Create a new dataframe checkin2 with aggregation (Business Id - Total count of checkins)\n",
    "\n",
    "def downsize_checkin(checkin, business1):\n",
    "    temp = business1['business_id'].tolist()\n",
    "    checkin1 = checkin[checkin['business_id'].isin(temp)]\n",
    "    checkin2 = checkin1.groupby('business_id').sum().reset_index()\n",
    "    return checkin2\n",
    "\n",
    "checkin2 = downsize_checkin(checkin, business1)\n",
    "checkin2.head()"
   ]
  },
  {
   "cell_type": "code",
   "execution_count": 163,
   "metadata": {},
   "outputs": [
    {
     "data": {
      "text/plain": [
       "0"
      ]
     },
     "execution_count": 163,
     "metadata": {},
     "output_type": "execute_result"
    }
   ],
   "source": [
    "## Naive check to see if any row didn't get aggregated. This should return 0\n",
    "len(checkin2[checkin2['checkins'] < 1]) "
   ]
  },
  {
   "cell_type": "markdown",
   "metadata": {},
   "source": [
    "###### 4c. Join business and checkin dataframes"
   ]
  },
  {
   "cell_type": "markdown",
   "metadata": {},
   "source": [
    " "
   ]
  },
  {
   "cell_type": "code",
   "execution_count": 164,
   "metadata": {},
   "outputs": [
    {
     "data": {
      "text/html": [
       "<div>\n",
       "<style scoped>\n",
       "    .dataframe tbody tr th:only-of-type {\n",
       "        vertical-align: middle;\n",
       "    }\n",
       "\n",
       "    .dataframe tbody tr th {\n",
       "        vertical-align: top;\n",
       "    }\n",
       "\n",
       "    .dataframe thead th {\n",
       "        text-align: right;\n",
       "    }\n",
       "</style>\n",
       "<table border=\"1\" class=\"dataframe\">\n",
       "  <thead>\n",
       "    <tr style=\"text-align: right;\">\n",
       "      <th></th>\n",
       "      <th>business_id</th>\n",
       "      <th>name</th>\n",
       "      <th>city</th>\n",
       "      <th>state</th>\n",
       "      <th>latitude</th>\n",
       "      <th>longitude</th>\n",
       "      <th>stars</th>\n",
       "      <th>review_count</th>\n",
       "      <th>checkins</th>\n",
       "    </tr>\n",
       "  </thead>\n",
       "  <tbody>\n",
       "    <tr>\n",
       "      <th>0</th>\n",
       "      <td>4Jv9IJsVgwovMqv8YQJF1g</td>\n",
       "      <td>\"Cc's Creations\"</td>\n",
       "      <td>Woodbridge</td>\n",
       "      <td>ON</td>\n",
       "      <td>43.784442</td>\n",
       "      <td>-79.594259</td>\n",
       "      <td>1.0</td>\n",
       "      <td>3</td>\n",
       "      <td>NaN</td>\n",
       "    </tr>\n",
       "    <tr>\n",
       "      <th>1</th>\n",
       "      <td>K-tl3k56Px2G6KRsKNyUUA</td>\n",
       "      <td>\"Subway\"</td>\n",
       "      <td>Cleveland</td>\n",
       "      <td>OH</td>\n",
       "      <td>41.438300</td>\n",
       "      <td>-81.699207</td>\n",
       "      <td>1.0</td>\n",
       "      <td>4</td>\n",
       "      <td>4.0</td>\n",
       "    </tr>\n",
       "    <tr>\n",
       "      <th>2</th>\n",
       "      <td>QcTpYpgEYSZ6vPGgz3LiDQ</td>\n",
       "      <td>\"Subway\"</td>\n",
       "      <td>Scarborough</td>\n",
       "      <td>ON</td>\n",
       "      <td>43.772917</td>\n",
       "      <td>-79.321447</td>\n",
       "      <td>1.0</td>\n",
       "      <td>3</td>\n",
       "      <td>4.0</td>\n",
       "    </tr>\n",
       "    <tr>\n",
       "      <th>3</th>\n",
       "      <td>4FdXVA-WxWwc5rmjRPJVnQ</td>\n",
       "      <td>\"McDonald's\"</td>\n",
       "      <td>Madison</td>\n",
       "      <td>WI</td>\n",
       "      <td>43.128766</td>\n",
       "      <td>-89.308580</td>\n",
       "      <td>1.0</td>\n",
       "      <td>4</td>\n",
       "      <td>25.0</td>\n",
       "    </tr>\n",
       "    <tr>\n",
       "      <th>4</th>\n",
       "      <td>e1UF53wfi3HKNmPHzc3OLg</td>\n",
       "      <td>\"Zaxby's Chicken Fingers &amp; Buffalo Wings\"</td>\n",
       "      <td>Charlotte</td>\n",
       "      <td>NC</td>\n",
       "      <td>35.163464</td>\n",
       "      <td>-80.970793</td>\n",
       "      <td>1.0</td>\n",
       "      <td>17</td>\n",
       "      <td>36.0</td>\n",
       "    </tr>\n",
       "  </tbody>\n",
       "</table>\n",
       "</div>"
      ],
      "text/plain": [
       "              business_id                                       name  \\\n",
       "0  4Jv9IJsVgwovMqv8YQJF1g                           \"Cc's Creations\"   \n",
       "1  K-tl3k56Px2G6KRsKNyUUA                                   \"Subway\"   \n",
       "2  QcTpYpgEYSZ6vPGgz3LiDQ                                   \"Subway\"   \n",
       "3  4FdXVA-WxWwc5rmjRPJVnQ                               \"McDonald's\"   \n",
       "4  e1UF53wfi3HKNmPHzc3OLg  \"Zaxby's Chicken Fingers & Buffalo Wings\"   \n",
       "\n",
       "          city state   latitude  longitude  stars  review_count  checkins  \n",
       "0   Woodbridge    ON  43.784442 -79.594259    1.0             3       NaN  \n",
       "1    Cleveland    OH  41.438300 -81.699207    1.0             4       4.0  \n",
       "2  Scarborough    ON  43.772917 -79.321447    1.0             3       4.0  \n",
       "3      Madison    WI  43.128766 -89.308580    1.0             4      25.0  \n",
       "4    Charlotte    NC  35.163464 -80.970793    1.0            17      36.0  "
      ]
     },
     "execution_count": 164,
     "metadata": {},
     "output_type": "execute_result"
    }
   ],
   "source": [
    "## Action:\n",
    "## 1. Copy the unique list of business ids in a 'temp' variable\n",
    "## 2. Create a new dataframe checkin1 having business ids in temp\n",
    "## 3. Create a new dataframe checkin2 with aggregation (Business Id - Total count of checkins)\n",
    "\n",
    "def merge_business_checkin(checkin2, business1):\n",
    "    business_checkin = pd.merge(business1, checkin2, on='business_id', how='left')\n",
    "    business_checkin.fillna(0)\n",
    "    return business_checkin\n",
    "\n",
    "business_checkin = merge_business_checkin(checkin2, business1)\n",
    "business_checkin.head()"
   ]
  },
  {
   "cell_type": "markdown",
   "metadata": {},
   "source": [
    "###### 4d. Downsize review dataframe"
   ]
  },
  {
   "cell_type": "markdown",
   "metadata": {},
   "source": [
    " "
   ]
  },
  {
   "cell_type": "code",
   "execution_count": 165,
   "metadata": {},
   "outputs": [
    {
     "data": {
      "text/html": [
       "<div>\n",
       "<style scoped>\n",
       "    .dataframe tbody tr th:only-of-type {\n",
       "        vertical-align: middle;\n",
       "    }\n",
       "\n",
       "    .dataframe tbody tr th {\n",
       "        vertical-align: top;\n",
       "    }\n",
       "\n",
       "    .dataframe thead th {\n",
       "        text-align: right;\n",
       "    }\n",
       "</style>\n",
       "<table border=\"1\" class=\"dataframe\">\n",
       "  <thead>\n",
       "    <tr style=\"text-align: right;\">\n",
       "      <th></th>\n",
       "      <th>business_id</th>\n",
       "      <th>stars</th>\n",
       "      <th>text</th>\n",
       "    </tr>\n",
       "  </thead>\n",
       "  <tbody>\n",
       "    <tr>\n",
       "      <th>0</th>\n",
       "      <td>ACFtxLv8pGrrxMm6EgjreA</td>\n",
       "      <td>4</td>\n",
       "      <td>Love coming here. Yes the place always needs t...</td>\n",
       "    </tr>\n",
       "    <tr>\n",
       "      <th>1</th>\n",
       "      <td>5N8R7ALESZ30EoAzVJtabw</td>\n",
       "      <td>5</td>\n",
       "      <td>Went in on a whim and was not disappointed. I ...</td>\n",
       "    </tr>\n",
       "    <tr>\n",
       "      <th>2</th>\n",
       "      <td>wSojc-y-d7MWiGWdy8deCg</td>\n",
       "      <td>2</td>\n",
       "      <td>Was really looking forward to some good briske...</td>\n",
       "    </tr>\n",
       "    <tr>\n",
       "      <th>3</th>\n",
       "      <td>OMRYQihVjqqzjoNoQgyhgQ</td>\n",
       "      <td>2</td>\n",
       "      <td>I'm so disappointed, this was the place to go ...</td>\n",
       "    </tr>\n",
       "    <tr>\n",
       "      <th>4</th>\n",
       "      <td>JpgVl3d20CMRNjf1DVnzGA</td>\n",
       "      <td>3</td>\n",
       "      <td>I've been to 4 different Brazilian churrascari...</td>\n",
       "    </tr>\n",
       "  </tbody>\n",
       "</table>\n",
       "</div>"
      ],
      "text/plain": [
       "              business_id  stars  \\\n",
       "0  ACFtxLv8pGrrxMm6EgjreA      4   \n",
       "1  5N8R7ALESZ30EoAzVJtabw      5   \n",
       "2  wSojc-y-d7MWiGWdy8deCg      2   \n",
       "3  OMRYQihVjqqzjoNoQgyhgQ      2   \n",
       "4  JpgVl3d20CMRNjf1DVnzGA      3   \n",
       "\n",
       "                                                text  \n",
       "0  Love coming here. Yes the place always needs t...  \n",
       "1  Went in on a whim and was not disappointed. I ...  \n",
       "2  Was really looking forward to some good briske...  \n",
       "3  I'm so disappointed, this was the place to go ...  \n",
       "4  I've been to 4 different Brazilian churrascari...  "
      ]
     },
     "execution_count": 165,
     "metadata": {},
     "output_type": "execute_result"
    }
   ],
   "source": [
    "## Action:\n",
    "## 1. Copy the unique list of business ids in a 'temp' variable\n",
    "## 2. Create a new dataframe review1 having business ids in temp and keep only relevant columns\n",
    "## 3. Create a new dataframe review2 with index resetting (for future operations on this dataset)\n",
    "\n",
    "def downsize_review(review, business1):\n",
    "    temp = business1['business_id'].tolist()\n",
    "    review1 = review[review['business_id'].isin(temp)]\n",
    "    review1 = review1[['business_id', 'stars', 'text']]\n",
    "    review2 = review1.reset_index(drop=True)\n",
    "    return review2\n",
    "\n",
    "review2 = downsize_review(review, business1)\n",
    "review2.head()"
   ]
  },
  {
   "cell_type": "markdown",
   "metadata": {},
   "source": [
    "### 4e. Sentiment Analysis of customer reviews"
   ]
  },
  {
   "cell_type": "markdown",
   "metadata": {},
   "source": [
    " "
   ]
  },
  {
   "cell_type": "code",
   "execution_count": 166,
   "metadata": {},
   "outputs": [],
   "source": [
    "## Action:\n",
    "\n",
    "## 1. Clean the text data in review dataset\n",
    "## 2. Tokenize all text to sentences and then words\n",
    "## 3. Tag all the words with position tags\n",
    "## 4. Convert all tags to wrodnet tags\n",
    "## 5. Lemmatize the words and create synsets\n",
    "## 6. Compute sentiment score (positive score - negative score)\n",
    "## 7/ Return a sentiment polarity score: 1 = positive, 0 = negative\n",
    "\n",
    "#nltk.download('punkt')\n",
    " \n",
    "lemmatizer = WordNetLemmatizer()\n",
    "  \n",
    "def convert_tag(tag):\n",
    "    if tag.startswith('J'):\n",
    "        return wn.ADJ\n",
    "    elif tag.startswith('N'):\n",
    "        return wn.NOUN\n",
    "    elif tag.startswith('R'):\n",
    "        return wn.ADV\n",
    "    elif tag.startswith('V'):\n",
    "        return wn.VERB\n",
    "    return None\n",
    " \n",
    "def clean_text(text):\n",
    "    text = text.replace(\"<br />\", \" \")\n",
    "    text = re.sub('<[^>]*>', '', text)\n",
    "    emoticons = re.findall('(?::|;|=)(?:-)?(?:\\)|\\(|D|P)', text)\n",
    "    text = (re.sub('[\\W]+', ' ', text.lower()) + ' '.join(emoticons).replace('-', ''))\n",
    "    #text = text.decode(\"utf-8\")\n",
    "    return text\n",
    " \n",
    "def compute_swn_polarity_score(text):\n",
    "    sentiment_score = 0.0\n",
    "    num_tokens = 0\n",
    "    text = clean_text(text)\n",
    "    sentences = sent_tokenize(text)\n",
    "    for sentence in sentences:\n",
    "        tagged_sentence = pos_tag(word_tokenize(sentence))\n",
    "        for word, tag in tagged_sentence:\n",
    "            wn_tag = convert_tag(tag)\n",
    "            if wn_tag not in (wn.NOUN, wn.ADJ, wn.ADV):\n",
    "                continue\n",
    "            lemma = lemmatizer.lemmatize(word, pos=wn_tag)\n",
    "            if not lemma:\n",
    "                continue\n",
    "            synsets = wn.synsets(lemma, pos=wn_tag)\n",
    "            if not synsets:\n",
    "                continue\n",
    "            synset = synsets[0]\n",
    "            swn_synset = swn.senti_synset(synset.name())\n",
    "            sentiment_score += swn_synset.pos_score() - swn_synset.neg_score()\n",
    "            num_tokens += 1\n",
    "    # sum greater than 0 => positive sentiment\n",
    "    if sentiment_score >= 0:\n",
    "        return 1\n",
    "    # All other scenarios => negative sentiment\n",
    "    else:\n",
    "        return 0"
   ]
  },
  {
   "cell_type": "code",
   "execution_count": 167,
   "metadata": {},
   "outputs": [
    {
     "data": {
      "text/html": [
       "<div>\n",
       "<style scoped>\n",
       "    .dataframe tbody tr th:only-of-type {\n",
       "        vertical-align: middle;\n",
       "    }\n",
       "\n",
       "    .dataframe tbody tr th {\n",
       "        vertical-align: top;\n",
       "    }\n",
       "\n",
       "    .dataframe thead th {\n",
       "        text-align: right;\n",
       "    }\n",
       "</style>\n",
       "<table border=\"1\" class=\"dataframe\">\n",
       "  <thead>\n",
       "    <tr style=\"text-align: right;\">\n",
       "      <th></th>\n",
       "      <th>business_id</th>\n",
       "      <th>stars</th>\n",
       "      <th>text</th>\n",
       "      <th>polarity</th>\n",
       "    </tr>\n",
       "  </thead>\n",
       "  <tbody>\n",
       "    <tr>\n",
       "      <th>0</th>\n",
       "      <td>ACFtxLv8pGrrxMm6EgjreA</td>\n",
       "      <td>4</td>\n",
       "      <td>Love coming here. Yes the place always needs t...</td>\n",
       "      <td>1</td>\n",
       "    </tr>\n",
       "    <tr>\n",
       "      <th>1</th>\n",
       "      <td>5N8R7ALESZ30EoAzVJtabw</td>\n",
       "      <td>5</td>\n",
       "      <td>Went in on a whim and was not disappointed. I ...</td>\n",
       "      <td>1</td>\n",
       "    </tr>\n",
       "    <tr>\n",
       "      <th>2</th>\n",
       "      <td>wSojc-y-d7MWiGWdy8deCg</td>\n",
       "      <td>2</td>\n",
       "      <td>Was really looking forward to some good briske...</td>\n",
       "      <td>1</td>\n",
       "    </tr>\n",
       "    <tr>\n",
       "      <th>3</th>\n",
       "      <td>OMRYQihVjqqzjoNoQgyhgQ</td>\n",
       "      <td>2</td>\n",
       "      <td>I'm so disappointed, this was the place to go ...</td>\n",
       "      <td>0</td>\n",
       "    </tr>\n",
       "    <tr>\n",
       "      <th>4</th>\n",
       "      <td>JpgVl3d20CMRNjf1DVnzGA</td>\n",
       "      <td>3</td>\n",
       "      <td>I've been to 4 different Brazilian churrascari...</td>\n",
       "      <td>0</td>\n",
       "    </tr>\n",
       "  </tbody>\n",
       "</table>\n",
       "</div>"
      ],
      "text/plain": [
       "              business_id  stars  \\\n",
       "0  ACFtxLv8pGrrxMm6EgjreA      4   \n",
       "1  5N8R7ALESZ30EoAzVJtabw      5   \n",
       "2  wSojc-y-d7MWiGWdy8deCg      2   \n",
       "3  OMRYQihVjqqzjoNoQgyhgQ      2   \n",
       "4  JpgVl3d20CMRNjf1DVnzGA      3   \n",
       "\n",
       "                                                text  polarity  \n",
       "0  Love coming here. Yes the place always needs t...         1  \n",
       "1  Went in on a whim and was not disappointed. I ...         1  \n",
       "2  Was really looking forward to some good briske...         1  \n",
       "3  I'm so disappointed, this was the place to go ...         0  \n",
       "4  I've been to 4 different Brazilian churrascari...         0  "
      ]
     },
     "execution_count": 167,
     "metadata": {},
     "output_type": "execute_result"
    }
   ],
   "source": [
    "## Action:\n",
    "## Create a new column 'polarity' with sentiment polarity as 1 (positive) or 0 (negative)\n",
    "review2['polarity'] = review2['text'].apply(compute_swn_polarity_score)\n",
    "review2.head()"
   ]
  },
  {
   "cell_type": "code",
   "execution_count": 168,
   "metadata": {},
   "outputs": [],
   "source": [
    "## Now we will calculate the net positive sentiment score for each business as follows:\n",
    "## net_positive_sentiment_score = sum(polarity) / total_count_of_reviews\n",
    "## sum(polarity) for each business can be aggregated and obtained from review2 dataframe\n",
    "## total_count_of_reviews is already available in business_checkin dataframe (review_count) column"
   ]
  },
  {
   "cell_type": "code",
   "execution_count": 169,
   "metadata": {},
   "outputs": [
    {
     "data": {
      "text/html": [
       "<div>\n",
       "<style scoped>\n",
       "    .dataframe tbody tr th:only-of-type {\n",
       "        vertical-align: middle;\n",
       "    }\n",
       "\n",
       "    .dataframe tbody tr th {\n",
       "        vertical-align: top;\n",
       "    }\n",
       "\n",
       "    .dataframe thead th {\n",
       "        text-align: right;\n",
       "    }\n",
       "</style>\n",
       "<table border=\"1\" class=\"dataframe\">\n",
       "  <thead>\n",
       "    <tr style=\"text-align: right;\">\n",
       "      <th></th>\n",
       "      <th>business_id</th>\n",
       "      <th>review_stars</th>\n",
       "      <th>net_positive_sentiment_score</th>\n",
       "    </tr>\n",
       "  </thead>\n",
       "  <tbody>\n",
       "    <tr>\n",
       "      <th>0</th>\n",
       "      <td>-syU1HD-Iw_GEH8P5l03_A</td>\n",
       "      <td>4.80</td>\n",
       "      <td>1.00</td>\n",
       "    </tr>\n",
       "    <tr>\n",
       "      <th>1</th>\n",
       "      <td>06MlxbtB4ZYeg_ri02RIAQ</td>\n",
       "      <td>2.36</td>\n",
       "      <td>0.49</td>\n",
       "    </tr>\n",
       "    <tr>\n",
       "      <th>2</th>\n",
       "      <td>0R-6OcfG57Kg_uDro3ImPA</td>\n",
       "      <td>3.75</td>\n",
       "      <td>0.60</td>\n",
       "    </tr>\n",
       "    <tr>\n",
       "      <th>3</th>\n",
       "      <td>0RrHQNdsMK3jPlK4f9_wWA</td>\n",
       "      <td>2.30</td>\n",
       "      <td>0.30</td>\n",
       "    </tr>\n",
       "    <tr>\n",
       "      <th>4</th>\n",
       "      <td>0SYfS38_-7Mt20x9jNph_Q</td>\n",
       "      <td>4.60</td>\n",
       "      <td>1.00</td>\n",
       "    </tr>\n",
       "  </tbody>\n",
       "</table>\n",
       "</div>"
      ],
      "text/plain": [
       "              business_id  review_stars  net_positive_sentiment_score\n",
       "0  -syU1HD-Iw_GEH8P5l03_A          4.80                          1.00\n",
       "1  06MlxbtB4ZYeg_ri02RIAQ          2.36                          0.49\n",
       "2  0R-6OcfG57Kg_uDro3ImPA          3.75                          0.60\n",
       "3  0RrHQNdsMK3jPlK4f9_wWA          2.30                          0.30\n",
       "4  0SYfS38_-7Mt20x9jNph_Q          4.60                          1.00"
      ]
     },
     "execution_count": 169,
     "metadata": {},
     "output_type": "execute_result"
    }
   ],
   "source": [
    "## Action:\n",
    "## 1. Create a new dataframe review3 by averaging all columns to give 99 distinct rows of business ids \n",
    "## 2. Reset index\n",
    "## 3. Round up the 'stars' and 'polarity' columns to 2 decimals\n",
    "## 4. Rename 'polarity' column to 'net_positive_sentiment' and 'stars' to 'review_stars'\n",
    "\n",
    "def transform_review(review2):\n",
    "    review3 = review2.groupby('business_id').mean().reset_index()\n",
    "    #review3['stars'].round(2)\n",
    "    review3['stars'] = review3['stars'].apply(lambda x: round(x,2))\n",
    "    review3['polarity'] = review3['polarity'].apply(lambda x: round(x,2))\n",
    "    review3.rename(columns={'polarity':'net_positive_sentiment_score'}, inplace=True)\n",
    "    review3.rename(columns={'stars':'review_stars'}, inplace=True)\n",
    "    return review3\n",
    "review3 = transform_review(review2)\n",
    "review3.head()"
   ]
  },
  {
   "cell_type": "code",
   "execution_count": 171,
   "metadata": {},
   "outputs": [
    {
     "data": {
      "text/html": [
       "<div>\n",
       "<style scoped>\n",
       "    .dataframe tbody tr th:only-of-type {\n",
       "        vertical-align: middle;\n",
       "    }\n",
       "\n",
       "    .dataframe tbody tr th {\n",
       "        vertical-align: top;\n",
       "    }\n",
       "\n",
       "    .dataframe thead th {\n",
       "        text-align: right;\n",
       "    }\n",
       "</style>\n",
       "<table border=\"1\" class=\"dataframe\">\n",
       "  <thead>\n",
       "    <tr style=\"text-align: right;\">\n",
       "      <th></th>\n",
       "      <th>business_id</th>\n",
       "      <th>name</th>\n",
       "      <th>city</th>\n",
       "      <th>state</th>\n",
       "      <th>latitude</th>\n",
       "      <th>longitude</th>\n",
       "      <th>stars</th>\n",
       "      <th>review_count</th>\n",
       "      <th>checkins</th>\n",
       "      <th>review_stars</th>\n",
       "      <th>net_positive_sentiment_score</th>\n",
       "    </tr>\n",
       "  </thead>\n",
       "  <tbody>\n",
       "    <tr>\n",
       "      <th>0</th>\n",
       "      <td>4Jv9IJsVgwovMqv8YQJF1g</td>\n",
       "      <td>\"Cc's Creations\"</td>\n",
       "      <td>Woodbridge</td>\n",
       "      <td>ON</td>\n",
       "      <td>43.784442</td>\n",
       "      <td>-79.594259</td>\n",
       "      <td>1.0</td>\n",
       "      <td>3</td>\n",
       "      <td>NaN</td>\n",
       "      <td>1.00</td>\n",
       "      <td>0.67</td>\n",
       "    </tr>\n",
       "    <tr>\n",
       "      <th>1</th>\n",
       "      <td>K-tl3k56Px2G6KRsKNyUUA</td>\n",
       "      <td>\"Subway\"</td>\n",
       "      <td>Cleveland</td>\n",
       "      <td>OH</td>\n",
       "      <td>41.438300</td>\n",
       "      <td>-81.699207</td>\n",
       "      <td>1.0</td>\n",
       "      <td>4</td>\n",
       "      <td>4.0</td>\n",
       "      <td>1.25</td>\n",
       "      <td>0.75</td>\n",
       "    </tr>\n",
       "    <tr>\n",
       "      <th>2</th>\n",
       "      <td>QcTpYpgEYSZ6vPGgz3LiDQ</td>\n",
       "      <td>\"Subway\"</td>\n",
       "      <td>Scarborough</td>\n",
       "      <td>ON</td>\n",
       "      <td>43.772917</td>\n",
       "      <td>-79.321447</td>\n",
       "      <td>1.0</td>\n",
       "      <td>3</td>\n",
       "      <td>4.0</td>\n",
       "      <td>1.00</td>\n",
       "      <td>0.00</td>\n",
       "    </tr>\n",
       "    <tr>\n",
       "      <th>3</th>\n",
       "      <td>4FdXVA-WxWwc5rmjRPJVnQ</td>\n",
       "      <td>\"McDonald's\"</td>\n",
       "      <td>Madison</td>\n",
       "      <td>WI</td>\n",
       "      <td>43.128766</td>\n",
       "      <td>-89.308580</td>\n",
       "      <td>1.0</td>\n",
       "      <td>4</td>\n",
       "      <td>25.0</td>\n",
       "      <td>1.25</td>\n",
       "      <td>0.00</td>\n",
       "    </tr>\n",
       "    <tr>\n",
       "      <th>4</th>\n",
       "      <td>e1UF53wfi3HKNmPHzc3OLg</td>\n",
       "      <td>\"Zaxby's Chicken Fingers &amp; Buffalo Wings\"</td>\n",
       "      <td>Charlotte</td>\n",
       "      <td>NC</td>\n",
       "      <td>35.163464</td>\n",
       "      <td>-80.970793</td>\n",
       "      <td>1.0</td>\n",
       "      <td>17</td>\n",
       "      <td>36.0</td>\n",
       "      <td>1.24</td>\n",
       "      <td>0.18</td>\n",
       "    </tr>\n",
       "  </tbody>\n",
       "</table>\n",
       "</div>"
      ],
      "text/plain": [
       "              business_id                                       name  \\\n",
       "0  4Jv9IJsVgwovMqv8YQJF1g                           \"Cc's Creations\"   \n",
       "1  K-tl3k56Px2G6KRsKNyUUA                                   \"Subway\"   \n",
       "2  QcTpYpgEYSZ6vPGgz3LiDQ                                   \"Subway\"   \n",
       "3  4FdXVA-WxWwc5rmjRPJVnQ                               \"McDonald's\"   \n",
       "4  e1UF53wfi3HKNmPHzc3OLg  \"Zaxby's Chicken Fingers & Buffalo Wings\"   \n",
       "\n",
       "          city state   latitude  longitude  stars  review_count  checkins  \\\n",
       "0   Woodbridge    ON  43.784442 -79.594259    1.0             3       NaN   \n",
       "1    Cleveland    OH  41.438300 -81.699207    1.0             4       4.0   \n",
       "2  Scarborough    ON  43.772917 -79.321447    1.0             3       4.0   \n",
       "3      Madison    WI  43.128766 -89.308580    1.0             4      25.0   \n",
       "4    Charlotte    NC  35.163464 -80.970793    1.0            17      36.0   \n",
       "\n",
       "   review_stars  net_positive_sentiment_score  \n",
       "0          1.00                          0.67  \n",
       "1          1.25                          0.75  \n",
       "2          1.00                          0.00  \n",
       "3          1.25                          0.00  \n",
       "4          1.24                          0.18  "
      ]
     },
     "execution_count": 171,
     "metadata": {},
     "output_type": "execute_result"
    }
   ],
   "source": [
    "## Action:\n",
    "## 1. Join business_checkin and review3 dataframces\n",
    "## 2. Fill any missing values with 0\n",
    "\n",
    "def merge_business_checkin_review(review3, business_checkin):\n",
    "    business_checkin_review = pd.merge(business_checkin, review3, on='business_id', how='inner')\n",
    "    business_checkin_review.fillna(0)\n",
    "    return business_checkin_review\n",
    "\n",
    "business_checkin_review = merge_business_checkin_review(review3, business_checkin)\n",
    "business_checkin_review.head()"
   ]
  },
  {
   "cell_type": "markdown",
   "metadata": {},
   "source": [
    "###### 4f. Downsize tip"
   ]
  },
  {
   "cell_type": "markdown",
   "metadata": {},
   "source": [
    " "
   ]
  },
  {
   "cell_type": "code",
   "execution_count": 172,
   "metadata": {},
   "outputs": [
    {
     "data": {
      "text/html": [
       "<div>\n",
       "<style scoped>\n",
       "    .dataframe tbody tr th:only-of-type {\n",
       "        vertical-align: middle;\n",
       "    }\n",
       "\n",
       "    .dataframe tbody tr th {\n",
       "        vertical-align: top;\n",
       "    }\n",
       "\n",
       "    .dataframe thead th {\n",
       "        text-align: right;\n",
       "    }\n",
       "</style>\n",
       "<table border=\"1\" class=\"dataframe\">\n",
       "  <thead>\n",
       "    <tr style=\"text-align: right;\">\n",
       "      <th></th>\n",
       "      <th>business_id</th>\n",
       "      <th>text</th>\n",
       "    </tr>\n",
       "  </thead>\n",
       "  <tbody>\n",
       "    <tr>\n",
       "      <th>0</th>\n",
       "      <td>M-uo9HTEJEx7cS0eCsQyUg</td>\n",
       "      <td>If you don't like the pot of tea you order the...</td>\n",
       "    </tr>\n",
       "    <tr>\n",
       "      <th>1</th>\n",
       "      <td>dWkPcRiiEW97RwGhFZ3H5A</td>\n",
       "      <td>Has ready-to-eat gulab jamun, unlike Kohli's, ...</td>\n",
       "    </tr>\n",
       "    <tr>\n",
       "      <th>2</th>\n",
       "      <td>egpDg61SdYbKWvCpPM7Nbg</td>\n",
       "      <td>The Kauai pie!!! Triple yum!</td>\n",
       "    </tr>\n",
       "    <tr>\n",
       "      <th>3</th>\n",
       "      <td>M-uo9HTEJEx7cS0eCsQyUg</td>\n",
       "      <td>Brunch</td>\n",
       "    </tr>\n",
       "    <tr>\n",
       "      <th>4</th>\n",
       "      <td>M-uo9HTEJEx7cS0eCsQyUg</td>\n",
       "      <td>First time high tea!!</td>\n",
       "    </tr>\n",
       "  </tbody>\n",
       "</table>\n",
       "</div>"
      ],
      "text/plain": [
       "              business_id                                               text\n",
       "0  M-uo9HTEJEx7cS0eCsQyUg  If you don't like the pot of tea you order the...\n",
       "1  dWkPcRiiEW97RwGhFZ3H5A  Has ready-to-eat gulab jamun, unlike Kohli's, ...\n",
       "2  egpDg61SdYbKWvCpPM7Nbg                       The Kauai pie!!! Triple yum!\n",
       "3  M-uo9HTEJEx7cS0eCsQyUg                                             Brunch\n",
       "4  M-uo9HTEJEx7cS0eCsQyUg                              First time high tea!!"
      ]
     },
     "execution_count": 172,
     "metadata": {},
     "output_type": "execute_result"
    }
   ],
   "source": [
    "## Action:\n",
    "## 1. Copy the unique list of business ids in a 'temp' variable\n",
    "## 2. Create a new dataframe review1 having business ids in temp and keep only relevant columns\n",
    "## 3. Create a new dataframe review2 with index resetting (for future operations on this dataset)\n",
    "\n",
    "def downsize_tip(tip, business1):\n",
    "    temp = business1['business_id'].tolist()\n",
    "    tip1 = tip[tip['business_id'].isin(temp)]\n",
    "    tip1 = tip1[['business_id', 'text']]\n",
    "    tip2 = tip1.reset_index(drop=True)\n",
    "    return tip2\n",
    "\n",
    "tip2 = downsize_tip(tip, business1)\n",
    "tip2.head()"
   ]
  },
  {
   "cell_type": "markdown",
   "metadata": {},
   "source": [
    "### 4g. Sentiment Analysis of reviews at the time of giving tips"
   ]
  },
  {
   "cell_type": "markdown",
   "metadata": {},
   "source": [
    " "
   ]
  },
  {
   "cell_type": "code",
   "execution_count": 173,
   "metadata": {},
   "outputs": [
    {
     "data": {
      "text/html": [
       "<div>\n",
       "<style scoped>\n",
       "    .dataframe tbody tr th:only-of-type {\n",
       "        vertical-align: middle;\n",
       "    }\n",
       "\n",
       "    .dataframe tbody tr th {\n",
       "        vertical-align: top;\n",
       "    }\n",
       "\n",
       "    .dataframe thead th {\n",
       "        text-align: right;\n",
       "    }\n",
       "</style>\n",
       "<table border=\"1\" class=\"dataframe\">\n",
       "  <thead>\n",
       "    <tr style=\"text-align: right;\">\n",
       "      <th></th>\n",
       "      <th>business_id</th>\n",
       "      <th>text</th>\n",
       "      <th>polarity</th>\n",
       "    </tr>\n",
       "  </thead>\n",
       "  <tbody>\n",
       "    <tr>\n",
       "      <th>0</th>\n",
       "      <td>M-uo9HTEJEx7cS0eCsQyUg</td>\n",
       "      <td>If you don't like the pot of tea you order the...</td>\n",
       "      <td>1</td>\n",
       "    </tr>\n",
       "    <tr>\n",
       "      <th>1</th>\n",
       "      <td>dWkPcRiiEW97RwGhFZ3H5A</td>\n",
       "      <td>Has ready-to-eat gulab jamun, unlike Kohli's, ...</td>\n",
       "      <td>1</td>\n",
       "    </tr>\n",
       "    <tr>\n",
       "      <th>2</th>\n",
       "      <td>egpDg61SdYbKWvCpPM7Nbg</td>\n",
       "      <td>The Kauai pie!!! Triple yum!</td>\n",
       "      <td>1</td>\n",
       "    </tr>\n",
       "    <tr>\n",
       "      <th>3</th>\n",
       "      <td>M-uo9HTEJEx7cS0eCsQyUg</td>\n",
       "      <td>Brunch</td>\n",
       "      <td>1</td>\n",
       "    </tr>\n",
       "    <tr>\n",
       "      <th>4</th>\n",
       "      <td>M-uo9HTEJEx7cS0eCsQyUg</td>\n",
       "      <td>First time high tea!!</td>\n",
       "      <td>0</td>\n",
       "    </tr>\n",
       "  </tbody>\n",
       "</table>\n",
       "</div>"
      ],
      "text/plain": [
       "              business_id                                               text  \\\n",
       "0  M-uo9HTEJEx7cS0eCsQyUg  If you don't like the pot of tea you order the...   \n",
       "1  dWkPcRiiEW97RwGhFZ3H5A  Has ready-to-eat gulab jamun, unlike Kohli's, ...   \n",
       "2  egpDg61SdYbKWvCpPM7Nbg                       The Kauai pie!!! Triple yum!   \n",
       "3  M-uo9HTEJEx7cS0eCsQyUg                                             Brunch   \n",
       "4  M-uo9HTEJEx7cS0eCsQyUg                              First time high tea!!   \n",
       "\n",
       "   polarity  \n",
       "0         1  \n",
       "1         1  \n",
       "2         1  \n",
       "3         1  \n",
       "4         0  "
      ]
     },
     "execution_count": 173,
     "metadata": {},
     "output_type": "execute_result"
    }
   ],
   "source": [
    "tip2['polarity'] = tip2['text'].apply(compute_swn_polarity_score)\n",
    "tip2.head()"
   ]
  },
  {
   "cell_type": "code",
   "execution_count": 174,
   "metadata": {},
   "outputs": [
    {
     "data": {
      "text/html": [
       "<div>\n",
       "<style scoped>\n",
       "    .dataframe tbody tr th:only-of-type {\n",
       "        vertical-align: middle;\n",
       "    }\n",
       "\n",
       "    .dataframe tbody tr th {\n",
       "        vertical-align: top;\n",
       "    }\n",
       "\n",
       "    .dataframe thead th {\n",
       "        text-align: right;\n",
       "    }\n",
       "</style>\n",
       "<table border=\"1\" class=\"dataframe\">\n",
       "  <thead>\n",
       "    <tr style=\"text-align: right;\">\n",
       "      <th></th>\n",
       "      <th>business_id</th>\n",
       "      <th>net_positive_sentiment_score</th>\n",
       "    </tr>\n",
       "  </thead>\n",
       "  <tbody>\n",
       "    <tr>\n",
       "      <th>0</th>\n",
       "      <td>06MlxbtB4ZYeg_ri02RIAQ</td>\n",
       "      <td>0.53</td>\n",
       "    </tr>\n",
       "    <tr>\n",
       "      <th>1</th>\n",
       "      <td>0R-6OcfG57Kg_uDro3ImPA</td>\n",
       "      <td>0.67</td>\n",
       "    </tr>\n",
       "    <tr>\n",
       "      <th>2</th>\n",
       "      <td>0RrHQNdsMK3jPlK4f9_wWA</td>\n",
       "      <td>0.00</td>\n",
       "    </tr>\n",
       "    <tr>\n",
       "      <th>3</th>\n",
       "      <td>1Hvm57g7zTpBR2hhFg8awQ</td>\n",
       "      <td>0.50</td>\n",
       "    </tr>\n",
       "    <tr>\n",
       "      <th>4</th>\n",
       "      <td>1NeLactWtnH2g8z1v4nrgA</td>\n",
       "      <td>0.67</td>\n",
       "    </tr>\n",
       "  </tbody>\n",
       "</table>\n",
       "</div>"
      ],
      "text/plain": [
       "              business_id  net_positive_sentiment_score\n",
       "0  06MlxbtB4ZYeg_ri02RIAQ                          0.53\n",
       "1  0R-6OcfG57Kg_uDro3ImPA                          0.67\n",
       "2  0RrHQNdsMK3jPlK4f9_wWA                          0.00\n",
       "3  1Hvm57g7zTpBR2hhFg8awQ                          0.50\n",
       "4  1NeLactWtnH2g8z1v4nrgA                          0.67"
      ]
     },
     "execution_count": 174,
     "metadata": {},
     "output_type": "execute_result"
    }
   ],
   "source": [
    "## Action:\n",
    "## 1. Create a new dataframe tip3 by averaging all columns to give 99 distinct rows of business ids \n",
    "## 2. Reset index\n",
    "## 3. Round up the 'polarity' columns to 2 decimals\n",
    "## 4. Rename 'polarity' column to 'net_positive_sentiment'\n",
    "\n",
    "def transform_tip(tip2):\n",
    "    tip3 = tip2.groupby('business_id').mean().reset_index()\n",
    "    tip3['polarity'] = tip3['polarity'].apply(lambda x: round(x,2))\n",
    "    tip3.rename(columns={'polarity':'net_positive_sentiment_score'}, inplace=True)\n",
    "    return tip3\n",
    "\n",
    "tip3 = transform_tip(tip2)\n",
    "tip3.head()"
   ]
  },
  {
   "cell_type": "code",
   "execution_count": 191,
   "metadata": {},
   "outputs": [
    {
     "data": {
      "text/html": [
       "<div>\n",
       "<style scoped>\n",
       "    .dataframe tbody tr th:only-of-type {\n",
       "        vertical-align: middle;\n",
       "    }\n",
       "\n",
       "    .dataframe tbody tr th {\n",
       "        vertical-align: top;\n",
       "    }\n",
       "\n",
       "    .dataframe thead th {\n",
       "        text-align: right;\n",
       "    }\n",
       "</style>\n",
       "<table border=\"1\" class=\"dataframe\">\n",
       "  <thead>\n",
       "    <tr style=\"text-align: right;\">\n",
       "      <th></th>\n",
       "      <th>business_id</th>\n",
       "      <th>name</th>\n",
       "      <th>city</th>\n",
       "      <th>state</th>\n",
       "      <th>latitude</th>\n",
       "      <th>longitude</th>\n",
       "      <th>stars</th>\n",
       "      <th>review_count</th>\n",
       "      <th>checkins</th>\n",
       "      <th>review_stars</th>\n",
       "      <th>net_positive_sentiment_score_review</th>\n",
       "      <th>net_positive_sentiment_score_tip</th>\n",
       "    </tr>\n",
       "  </thead>\n",
       "  <tbody>\n",
       "    <tr>\n",
       "      <th>0</th>\n",
       "      <td>4Jv9IJsVgwovMqv8YQJF1g</td>\n",
       "      <td>\"Cc's Creations\"</td>\n",
       "      <td>Woodbridge</td>\n",
       "      <td>ON</td>\n",
       "      <td>43.784442</td>\n",
       "      <td>-79.594259</td>\n",
       "      <td>1.0</td>\n",
       "      <td>3</td>\n",
       "      <td>NaN</td>\n",
       "      <td>1.00</td>\n",
       "      <td>0.67</td>\n",
       "      <td>NaN</td>\n",
       "    </tr>\n",
       "    <tr>\n",
       "      <th>1</th>\n",
       "      <td>K-tl3k56Px2G6KRsKNyUUA</td>\n",
       "      <td>\"Subway\"</td>\n",
       "      <td>Cleveland</td>\n",
       "      <td>OH</td>\n",
       "      <td>41.438300</td>\n",
       "      <td>-81.699207</td>\n",
       "      <td>1.0</td>\n",
       "      <td>4</td>\n",
       "      <td>4.0</td>\n",
       "      <td>1.25</td>\n",
       "      <td>0.75</td>\n",
       "      <td>NaN</td>\n",
       "    </tr>\n",
       "    <tr>\n",
       "      <th>2</th>\n",
       "      <td>QcTpYpgEYSZ6vPGgz3LiDQ</td>\n",
       "      <td>\"Subway\"</td>\n",
       "      <td>Scarborough</td>\n",
       "      <td>ON</td>\n",
       "      <td>43.772917</td>\n",
       "      <td>-79.321447</td>\n",
       "      <td>1.0</td>\n",
       "      <td>3</td>\n",
       "      <td>4.0</td>\n",
       "      <td>1.00</td>\n",
       "      <td>0.00</td>\n",
       "      <td>0.0</td>\n",
       "    </tr>\n",
       "    <tr>\n",
       "      <th>3</th>\n",
       "      <td>4FdXVA-WxWwc5rmjRPJVnQ</td>\n",
       "      <td>\"McDonald's\"</td>\n",
       "      <td>Madison</td>\n",
       "      <td>WI</td>\n",
       "      <td>43.128766</td>\n",
       "      <td>-89.308580</td>\n",
       "      <td>1.0</td>\n",
       "      <td>4</td>\n",
       "      <td>25.0</td>\n",
       "      <td>1.25</td>\n",
       "      <td>0.00</td>\n",
       "      <td>NaN</td>\n",
       "    </tr>\n",
       "    <tr>\n",
       "      <th>4</th>\n",
       "      <td>e1UF53wfi3HKNmPHzc3OLg</td>\n",
       "      <td>\"Zaxby's Chicken Fingers &amp; Buffalo Wings\"</td>\n",
       "      <td>Charlotte</td>\n",
       "      <td>NC</td>\n",
       "      <td>35.163464</td>\n",
       "      <td>-80.970793</td>\n",
       "      <td>1.0</td>\n",
       "      <td>17</td>\n",
       "      <td>36.0</td>\n",
       "      <td>1.24</td>\n",
       "      <td>0.18</td>\n",
       "      <td>1.0</td>\n",
       "    </tr>\n",
       "  </tbody>\n",
       "</table>\n",
       "</div>"
      ],
      "text/plain": [
       "              business_id                                       name  \\\n",
       "0  4Jv9IJsVgwovMqv8YQJF1g                           \"Cc's Creations\"   \n",
       "1  K-tl3k56Px2G6KRsKNyUUA                                   \"Subway\"   \n",
       "2  QcTpYpgEYSZ6vPGgz3LiDQ                                   \"Subway\"   \n",
       "3  4FdXVA-WxWwc5rmjRPJVnQ                               \"McDonald's\"   \n",
       "4  e1UF53wfi3HKNmPHzc3OLg  \"Zaxby's Chicken Fingers & Buffalo Wings\"   \n",
       "\n",
       "          city state   latitude  longitude  stars  review_count  checkins  \\\n",
       "0   Woodbridge    ON  43.784442 -79.594259    1.0             3       NaN   \n",
       "1    Cleveland    OH  41.438300 -81.699207    1.0             4       4.0   \n",
       "2  Scarborough    ON  43.772917 -79.321447    1.0             3       4.0   \n",
       "3      Madison    WI  43.128766 -89.308580    1.0             4      25.0   \n",
       "4    Charlotte    NC  35.163464 -80.970793    1.0            17      36.0   \n",
       "\n",
       "   review_stars  net_positive_sentiment_score_review  \\\n",
       "0          1.00                                 0.67   \n",
       "1          1.25                                 0.75   \n",
       "2          1.00                                 0.00   \n",
       "3          1.25                                 0.00   \n",
       "4          1.24                                 0.18   \n",
       "\n",
       "   net_positive_sentiment_score_tip  \n",
       "0                               NaN  \n",
       "1                               NaN  \n",
       "2                               0.0  \n",
       "3                               NaN  \n",
       "4                               1.0  "
      ]
     },
     "execution_count": 191,
     "metadata": {},
     "output_type": "execute_result"
    }
   ],
   "source": [
    "## Action:\n",
    "## 1. Join business_checkin_review and tip3 dataframes\n",
    "## 2. Fill any missing values with 0\n",
    "\n",
    "def merge_business_checkin_review_tip(tip3, business_checkin_review):\n",
    "    business_checkin_review_tip = pd.merge(business_checkin_review, tip3, on='business_id', how='left')\n",
    "    business_checkin_review_tip.rename(columns={'net_positive_sentiment_score_x':'net_positive_sentiment_score_review'}, inplace=True)\n",
    "    business_checkin_review_tip.rename(columns={'net_positive_sentiment_score_y':'net_positive_sentiment_score_tip'}, inplace=True)\n",
    "    return business_checkin_review_tip\n",
    "\n",
    "business_checkin_review_tip = merge_business_checkin_review_tip(tip3, business_checkin_review)\n",
    "business_checkin_review_tip.head()"
   ]
  },
  {
   "cell_type": "code",
   "execution_count": 194,
   "metadata": {},
   "outputs": [
    {
     "data": {
      "text/plain": [
       "144"
      ]
     },
     "execution_count": 194,
     "metadata": {},
     "output_type": "execute_result"
    }
   ],
   "source": [
    "data = business_checkin_review_tip\n",
    "data = data.dropna()\n",
    "len(data)"
   ]
  },
  {
   "cell_type": "markdown",
   "metadata": {},
   "source": [
    "### Step 5. Exploratory Data Analysis"
   ]
  },
  {
   "cell_type": "markdown",
   "metadata": {},
   "source": [
    "   "
   ]
  },
  {
   "cell_type": "markdown",
   "metadata": {},
   "source": [
    "#### 5a. Correlation Heatmap"
   ]
  },
  {
   "cell_type": "markdown",
   "metadata": {},
   "source": [
    " "
   ]
  },
  {
   "cell_type": "code",
   "execution_count": 196,
   "metadata": {},
   "outputs": [
    {
     "data": {
      "text/plain": [
       "<matplotlib.axes._subplots.AxesSubplot at 0x3e2b40160>"
      ]
     },
     "execution_count": 196,
     "metadata": {},
     "output_type": "execute_result"
    },
    {
     "data": {
      "image/png": "[encoded data removed]",
      "text/plain": [
       "<matplotlib.figure.Figure at 0x3e2a55908>"
      ]
     },
     "metadata": {},
     "output_type": "display_data"
    }
   ],
   "source": [
    "corr = data.select_dtypes(include = ['float64', 'int64']).iloc[:, 1:].corr()\n",
    "# Generate a mask for the upper triangle\n",
    "mask = np.zeros_like(corr, dtype=np.bool)\n",
    "mask[np.triu_indices_from(mask)] = True\n",
    "f, ax = plt.subplots(figsize=(12, 12))\n",
    "sns.heatmap(corr, mask=mask, vmax=1, annot=True,\n",
    "            square=True, linewidths=.5, cbar_kws={\"shrink\": .5})"
   ]
  },
  {
   "cell_type": "code",
   "execution_count": null,
   "metadata": {},
   "outputs": [],
   "source": [
    "## Observation:\n",
    "## stars has high correlation with review_stars and net_positive_sentiment_score_review\n",
    "## review_count and checkins are also highly correlated. So we should use only one of these in the model\n",
    "## review_stars and net_positive_sentiment_score_review also has a high correlation\n",
    "\n",
    "## So to sum up, we need to eliminate review_stars\n",
    "## Also, between review_count and checkins, I will eliminate review_count as it is already accounted for \n",
    "## in the computation of net_positive_sentiment_score_review\n",
    "\n",
    "## Ultimately, I shall move ahead with following features\n",
    "## 1. net_positive_sentiment_score_review\n",
    "## 2. net_positive_sentiment_score_tip\n",
    "## 3. checkins"
   ]
  },
  {
   "cell_type": "code",
   "execution_count": null,
   "metadata": {},
   "outputs": [],
   "source": [
    "data.drop(data.columns[[7, 9]], axis=1, inplace=True)"
   ]
  },
  {
   "cell_type": "code",
   "execution_count": 198,
   "metadata": {},
   "outputs": [
    {
     "data": {
      "text/html": [
       "<div>\n",
       "<style scoped>\n",
       "    .dataframe tbody tr th:only-of-type {\n",
       "        vertical-align: middle;\n",
       "    }\n",
       "\n",
       "    .dataframe tbody tr th {\n",
       "        vertical-align: top;\n",
       "    }\n",
       "\n",
       "    .dataframe thead th {\n",
       "        text-align: right;\n",
       "    }\n",
       "</style>\n",
       "<table border=\"1\" class=\"dataframe\">\n",
       "  <thead>\n",
       "    <tr style=\"text-align: right;\">\n",
       "      <th></th>\n",
       "      <th>business_id</th>\n",
       "      <th>name</th>\n",
       "      <th>city</th>\n",
       "      <th>state</th>\n",
       "      <th>latitude</th>\n",
       "      <th>longitude</th>\n",
       "      <th>stars</th>\n",
       "      <th>checkins</th>\n",
       "      <th>net_positive_sentiment_score_review</th>\n",
       "      <th>net_positive_sentiment_score_tip</th>\n",
       "    </tr>\n",
       "  </thead>\n",
       "  <tbody>\n",
       "    <tr>\n",
       "      <th>2</th>\n",
       "      <td>QcTpYpgEYSZ6vPGgz3LiDQ</td>\n",
       "      <td>\"Subway\"</td>\n",
       "      <td>Scarborough</td>\n",
       "      <td>ON</td>\n",
       "      <td>43.772917</td>\n",
       "      <td>-79.321447</td>\n",
       "      <td>1.0</td>\n",
       "      <td>4.0</td>\n",
       "      <td>0.00</td>\n",
       "      <td>0.0</td>\n",
       "    </tr>\n",
       "    <tr>\n",
       "      <th>4</th>\n",
       "      <td>e1UF53wfi3HKNmPHzc3OLg</td>\n",
       "      <td>\"Zaxby's Chicken Fingers &amp; Buffalo Wings\"</td>\n",
       "      <td>Charlotte</td>\n",
       "      <td>NC</td>\n",
       "      <td>35.163464</td>\n",
       "      <td>-80.970793</td>\n",
       "      <td>1.0</td>\n",
       "      <td>36.0</td>\n",
       "      <td>0.18</td>\n",
       "      <td>1.0</td>\n",
       "    </tr>\n",
       "    <tr>\n",
       "      <th>5</th>\n",
       "      <td>iYQPfLcPQXiYi-kycrm2rw</td>\n",
       "      <td>\"Sparkletts Water\"</td>\n",
       "      <td>Las Vegas</td>\n",
       "      <td>NV</td>\n",
       "      <td>36.128999</td>\n",
       "      <td>-115.196301</td>\n",
       "      <td>1.0</td>\n",
       "      <td>2.0</td>\n",
       "      <td>0.16</td>\n",
       "      <td>1.0</td>\n",
       "    </tr>\n",
       "    <tr>\n",
       "      <th>7</th>\n",
       "      <td>RUbB6951mueG7dm6lIpkcg</td>\n",
       "      <td>\"McDonald's\"</td>\n",
       "      <td>Mississauga</td>\n",
       "      <td>ON</td>\n",
       "      <td>43.636922</td>\n",
       "      <td>-79.718306</td>\n",
       "      <td>1.0</td>\n",
       "      <td>41.0</td>\n",
       "      <td>0.40</td>\n",
       "      <td>1.0</td>\n",
       "    </tr>\n",
       "    <tr>\n",
       "      <th>8</th>\n",
       "      <td>u7bjH0lJcE7Q4BFlKTPJcg</td>\n",
       "      <td>\"Swiss Chalet Rotisserie &amp; Grill\"</td>\n",
       "      <td>Toronto</td>\n",
       "      <td>ON</td>\n",
       "      <td>43.646449</td>\n",
       "      <td>-79.379615</td>\n",
       "      <td>1.0</td>\n",
       "      <td>10.0</td>\n",
       "      <td>0.00</td>\n",
       "      <td>1.0</td>\n",
       "    </tr>\n",
       "  </tbody>\n",
       "</table>\n",
       "</div>"
      ],
      "text/plain": [
       "              business_id                                       name  \\\n",
       "2  QcTpYpgEYSZ6vPGgz3LiDQ                                   \"Subway\"   \n",
       "4  e1UF53wfi3HKNmPHzc3OLg  \"Zaxby's Chicken Fingers & Buffalo Wings\"   \n",
       "5  iYQPfLcPQXiYi-kycrm2rw                         \"Sparkletts Water\"   \n",
       "7  RUbB6951mueG7dm6lIpkcg                               \"McDonald's\"   \n",
       "8  u7bjH0lJcE7Q4BFlKTPJcg          \"Swiss Chalet Rotisserie & Grill\"   \n",
       "\n",
       "          city state   latitude   longitude  stars  checkins  \\\n",
       "2  Scarborough    ON  43.772917  -79.321447    1.0       4.0   \n",
       "4    Charlotte    NC  35.163464  -80.970793    1.0      36.0   \n",
       "5    Las Vegas    NV  36.128999 -115.196301    1.0       2.0   \n",
       "7  Mississauga    ON  43.636922  -79.718306    1.0      41.0   \n",
       "8      Toronto    ON  43.646449  -79.379615    1.0      10.0   \n",
       "\n",
       "   net_positive_sentiment_score_review  net_positive_sentiment_score_tip  \n",
       "2                                 0.00                               0.0  \n",
       "4                                 0.18                               1.0  \n",
       "5                                 0.16                               1.0  \n",
       "7                                 0.40                               1.0  \n",
       "8                                 0.00                               1.0  "
      ]
     },
     "execution_count": 198,
     "metadata": {},
     "output_type": "execute_result"
    }
   ],
   "source": [
    "data.head()"
   ]
  },
  {
   "cell_type": "code",
   "execution_count": null,
   "metadata": {},
   "outputs": [],
   "source": [
    "### Visualization for the set of restaurants we have"
   ]
  },
  {
   "cell_type": "markdown",
   "metadata": {},
   "source": [
    "### Restaurant Category Creation\n",
    "\n",
    "#### Awesome     ::     stars >= 3.5\n",
    "#### Average        ::     stars 2.0 < x < 3.5\n",
    "#### Not really      ::     stars <= 2.0"
   ]
  },
  {
   "cell_type": "code",
   "execution_count": 429,
   "metadata": {},
   "outputs": [
    {
     "data": {
      "text/html": [
       "<div>\n",
       "<style scoped>\n",
       "    .dataframe tbody tr th:only-of-type {\n",
       "        vertical-align: middle;\n",
       "    }\n",
       "\n",
       "    .dataframe tbody tr th {\n",
       "        vertical-align: top;\n",
       "    }\n",
       "\n",
       "    .dataframe thead th {\n",
       "        text-align: right;\n",
       "    }\n",
       "</style>\n",
       "<table border=\"1\" class=\"dataframe\">\n",
       "  <thead>\n",
       "    <tr style=\"text-align: right;\">\n",
       "      <th></th>\n",
       "      <th>business_id</th>\n",
       "      <th>name</th>\n",
       "      <th>city</th>\n",
       "      <th>state</th>\n",
       "      <th>latitude</th>\n",
       "      <th>longitude</th>\n",
       "      <th>stars</th>\n",
       "      <th>checkins</th>\n",
       "      <th>net_positive_sentiment_score_review</th>\n",
       "      <th>net_positive_sentiment_score_tip</th>\n",
       "      <th>restaurant_category</th>\n",
       "    </tr>\n",
       "  </thead>\n",
       "  <tbody>\n",
       "    <tr>\n",
       "      <th>173</th>\n",
       "      <td>6aOnrzf15RMqFNOQ-_ElIA</td>\n",
       "      <td>\"COCO Crafted Organic Chocolate\"</td>\n",
       "      <td>Toronto</td>\n",
       "      <td>ON</td>\n",
       "      <td>43.657599</td>\n",
       "      <td>-79.487683</td>\n",
       "      <td>5.0</td>\n",
       "      <td>16.0</td>\n",
       "      <td>0.88</td>\n",
       "      <td>0.83</td>\n",
       "      <td>Awesome</td>\n",
       "    </tr>\n",
       "    <tr>\n",
       "      <th>174</th>\n",
       "      <td>wsgWLUX6ZVBEBQglZRVt2w</td>\n",
       "      <td>\"Linda's Superette\"</td>\n",
       "      <td>Cleveland</td>\n",
       "      <td>OH</td>\n",
       "      <td>41.490816</td>\n",
       "      <td>-81.709332</td>\n",
       "      <td>5.0</td>\n",
       "      <td>271.0</td>\n",
       "      <td>0.50</td>\n",
       "      <td>0.57</td>\n",
       "      <td>Awesome</td>\n",
       "    </tr>\n",
       "    <tr>\n",
       "      <th>175</th>\n",
       "      <td>YDVfq0xvdxVlA2KQbJLv-A</td>\n",
       "      <td>\"Kostas Meat Market &amp; Deli\"</td>\n",
       "      <td>Scarborough</td>\n",
       "      <td>ON</td>\n",
       "      <td>43.760794</td>\n",
       "      <td>-79.302096</td>\n",
       "      <td>5.0</td>\n",
       "      <td>8.0</td>\n",
       "      <td>1.00</td>\n",
       "      <td>1.00</td>\n",
       "      <td>Awesome</td>\n",
       "    </tr>\n",
       "    <tr>\n",
       "      <th>176</th>\n",
       "      <td>eL4hY2W2PAuFqIhQDW-ndA</td>\n",
       "      <td>\"Rosevear Tea\"</td>\n",
       "      <td>Edinburgh</td>\n",
       "      <td>EDH</td>\n",
       "      <td>55.937256</td>\n",
       "      <td>-3.207193</td>\n",
       "      <td>5.0</td>\n",
       "      <td>22.0</td>\n",
       "      <td>1.00</td>\n",
       "      <td>1.00</td>\n",
       "      <td>Awesome</td>\n",
       "    </tr>\n",
       "    <tr>\n",
       "      <th>177</th>\n",
       "      <td>3C0bnFhjkgYP9mWORKg6cA</td>\n",
       "      <td>\"Chili Man\"</td>\n",
       "      <td>Charlotte</td>\n",
       "      <td>NC</td>\n",
       "      <td>35.226911</td>\n",
       "      <td>-80.843823</td>\n",
       "      <td>5.0</td>\n",
       "      <td>154.0</td>\n",
       "      <td>0.78</td>\n",
       "      <td>0.80</td>\n",
       "      <td>Awesome</td>\n",
       "    </tr>\n",
       "  </tbody>\n",
       "</table>\n",
       "</div>"
      ],
      "text/plain": [
       "                business_id                              name         city  \\\n",
       "173  6aOnrzf15RMqFNOQ-_ElIA  \"COCO Crafted Organic Chocolate\"      Toronto   \n",
       "174  wsgWLUX6ZVBEBQglZRVt2w               \"Linda's Superette\"    Cleveland   \n",
       "175  YDVfq0xvdxVlA2KQbJLv-A       \"Kostas Meat Market & Deli\"  Scarborough   \n",
       "176  eL4hY2W2PAuFqIhQDW-ndA                    \"Rosevear Tea\"    Edinburgh   \n",
       "177  3C0bnFhjkgYP9mWORKg6cA                       \"Chili Man\"    Charlotte   \n",
       "\n",
       "    state   latitude  longitude  stars  checkins  \\\n",
       "173    ON  43.657599 -79.487683    5.0      16.0   \n",
       "174    OH  41.490816 -81.709332    5.0     271.0   \n",
       "175    ON  43.760794 -79.302096    5.0       8.0   \n",
       "176   EDH  55.937256  -3.207193    5.0      22.0   \n",
       "177    NC  35.226911 -80.843823    5.0     154.0   \n",
       "\n",
       "     net_positive_sentiment_score_review  net_positive_sentiment_score_tip  \\\n",
       "173                                 0.88                              0.83   \n",
       "174                                 0.50                              0.57   \n",
       "175                                 1.00                              1.00   \n",
       "176                                 1.00                              1.00   \n",
       "177                                 0.78                              0.80   \n",
       "\n",
       "    restaurant_category  \n",
       "173             Awesome  \n",
       "174             Awesome  \n",
       "175             Awesome  \n",
       "176             Awesome  \n",
       "177             Awesome  "
      ]
     },
     "execution_count": 429,
     "metadata": {},
     "output_type": "execute_result"
    }
   ],
   "source": [
    "## Action:\n",
    "## Categorize all restaurants\n",
    "\n",
    "def categorize(data):\n",
    "    if data['stars'] >= 3.5:\n",
    "        return 'Awesome'\n",
    "    elif data['stars'] <= 2.0:\n",
    "        return 'Not Really'\n",
    "    else:\n",
    "        return 'Average'\n",
    "    \n",
    "data['restaurant_category'] = data.apply(categorize, axis=1)\n",
    "\n",
    "data.tail()"
   ]
  },
  {
   "cell_type": "markdown",
   "metadata": {},
   "source": [
    "#### 5b. Exploring effect of net_positive_sentiment_score_review on Restaurant_Category (Star Rating)"
   ]
  },
  {
   "cell_type": "markdown",
   "metadata": {},
   "source": [
    " "
   ]
  },
  {
   "cell_type": "code",
   "execution_count": 435,
   "metadata": {
    "scrolled": true
   },
   "outputs": [
    {
     "data": {
      "image/png": "[encoded data removed]",
      "text/plain": [
       "<matplotlib.figure.Figure at 0x447561550>"
      ]
     },
     "metadata": {},
     "output_type": "display_data"
    }
   ],
   "source": [
    "plt.figure(figsize=(10,5))\n",
    "sns.set_context(\"paper\", font_scale=1.6)\n",
    "sns.kdeplot(data[\"net_positive_sentiment_score_review\"][data.restaurant_category == \"Awesome\"], \n",
    "            color=\"darkturquoise\", shade=True)\n",
    "sns.kdeplot(data[\"net_positive_sentiment_score_review\"][data.restaurant_category == \"Average\"], \n",
    "            color=\"gold\", shade=True)\n",
    "sns.kdeplot(data[\"net_positive_sentiment_score_review\"][data.restaurant_category == \"Not Really\"], \n",
    "            color=\"salmon\", shade=True)\n",
    "plt.xlim(-0.5,1.5)\n",
    "plt.legend(['Awesome', 'Average', 'Not really'])\n",
    "plt.title('Density Plot of net_positive_sentiment_score_review v/s Restaurant Category (Star Rating)')\n",
    "plt.show()"
   ]
  },
  {
   "cell_type": "markdown",
   "metadata": {},
   "source": [
    " "
   ]
  },
  {
   "cell_type": "code",
   "execution_count": 436,
   "metadata": {},
   "outputs": [
    {
     "data": {
      "image/png": "[encoded data removed]",
      "text/plain": [
       "<matplotlib.figure.Figure at 0x45304eef0>"
      ]
     },
     "metadata": {},
     "output_type": "display_data"
    }
   ],
   "source": [
    "plt.figure(figsize=(8,5))\n",
    "sns.set_context(\"paper\", font_scale=1.6)\n",
    "sns.regplot(x=data[\"net_positive_sentiment_score_review\"], y=data[\"stars\"])\n",
    "plt.title('Scatter Plot of net_positive_sentiment_score_review v/s Star Rating')\n",
    "plt.show()"
   ]
  },
  {
   "cell_type": "code",
   "execution_count": 456,
   "metadata": {},
   "outputs": [
    {
     "data": {
      "text/plain": [
       "<matplotlib.collections.PathCollection at 0x453178908>"
      ]
     },
     "execution_count": 456,
     "metadata": {},
     "output_type": "execute_result"
    },
    {
     "data": {
      "image/png": "[encoded data removed]",
      "text/plain": [
       "<matplotlib.figure.Figure at 0x42a45bc18>"
      ]
     },
     "metadata": {},
     "output_type": "display_data"
    }
   ],
   "source": [
    "plt.title('Scatter Plot of net_positive_sentiment_score_review v/s Star Rating')\n",
    "sns.set_context(\"paper\", font_scale=1.6)\n",
    "plt.scatter(data['stars'], data2['net_positive_sentiment_score_review'], s=600, c=\"red\", alpha=0.1)"
   ]
  },
  {
   "cell_type": "code",
   "execution_count": null,
   "metadata": {},
   "outputs": [],
   "source": [
    "## Observation:\n",
    "## Star Rating (and therefore, restaurant_category) have a strong linear relationship with \n",
    "## net_positive_sentiment_score_review. This was intuitive but since I computed the score myself via sentiment analysis\n",
    "## this is a strong evidence that the sentiment analysis was rightly done"
   ]
  },
  {
   "cell_type": "markdown",
   "metadata": {},
   "source": [
    "#### 5b. Exploring effect of net_positive_sentiment_score_tip on Restaurant_Category (Star Rating)"
   ]
  },
  {
   "cell_type": "markdown",
   "metadata": {},
   "source": [
    " "
   ]
  },
  {
   "cell_type": "code",
   "execution_count": 447,
   "metadata": {},
   "outputs": [
    {
     "data": {
      "image/png": "[encoded data removed]",
      "text/plain": [
       "<matplotlib.figure.Figure at 0x4456b2be0>"
      ]
     },
     "metadata": {},
     "output_type": "display_data"
    }
   ],
   "source": [
    "plt.figure(figsize=(10,5))\n",
    "sns.set_context(\"paper\", font_scale=1.6)\n",
    "sns.kdeplot(data[\"net_positive_sentiment_score_tip\"][data.restaurant_category == \"Awesome\"], \n",
    "            color=\"darkturquoise\", shade=True)\n",
    "sns.kdeplot(data[\"net_positive_sentiment_score_tip\"][data.restaurant_category == \"Average\"], \n",
    "            color=\"gold\", shade=True)\n",
    "sns.kdeplot(data[\"net_positive_sentiment_score_tip\"][data.restaurant_category == \"Not Really\"], \n",
    "            color=\"salmon\", shade=True)\n",
    "plt.xlim(-0.5,1.5)\n",
    "plt.legend(['Awesome', 'Average', 'Not Really'])\n",
    "plt.title('Density Plot of net_positive_sentiment_score_tip v/s Restaurant Category (Star Rating)')\n",
    "plt.show()"
   ]
  },
  {
   "cell_type": "code",
   "execution_count": 445,
   "metadata": {},
   "outputs": [
    {
     "data": {
      "image/png": "[encoded data removed]",
      "text/plain": [
       "<matplotlib.figure.Figure at 0x449401be0>"
      ]
     },
     "metadata": {},
     "output_type": "display_data"
    }
   ],
   "source": [
    "plt.figure(figsize=(8,5))\n",
    "sns.set_context(\"paper\", font_scale=1.6)\n",
    "\n",
    "sns.regplot(x=data[\"net_positive_sentiment_score_tip\"], y=data[\"stars\"])\n",
    "plt.title('Scatter Plot of net_positive_sentiment_score_tip v/s Star Rating')\n",
    "plt.show()"
   ]
  },
  {
   "cell_type": "code",
   "execution_count": 458,
   "metadata": {},
   "outputs": [
    {
     "data": {
      "text/plain": [
       "<matplotlib.collections.PathCollection at 0x455d62f60>"
      ]
     },
     "execution_count": 458,
     "metadata": {},
     "output_type": "execute_result"
    },
    {
     "data": {
      "image/png": "[encoded data removed]",
      "text/plain": [
       "<matplotlib.figure.Figure at 0x4564d17f0>"
      ]
     },
     "metadata": {},
     "output_type": "display_data"
    }
   ],
   "source": [
    "plt.title('Scatter Plot of net_positive_sentiment_score_tip v/s Star Rating')\n",
    "sns.set_context(\"paper\", font_scale=1.6)\n",
    "plt.scatter(data['stars'], data2['net_positive_sentiment_score_tip'], s=600, c=\"blue\", alpha=0.1)"
   ]
  },
  {
   "cell_type": "code",
   "execution_count": null,
   "metadata": {},
   "outputs": [],
   "source": [
    "## Observation:\n",
    "## Star Rating (and therefore, restaurant_category) do not have a great linear relationship with \n",
    "## net_positive_sentiment_score_tip. This is interesting and has two explanations. \n",
    "## One is that the sentiment analysis of tip reviews was not accurate enough\n",
    "## Two which is more of a logical fact that a customer is more likely to give reviews while shelling out tips\n",
    "## when he / she is impressed with the restaurant's service. \n",
    "## Therefore, it seems like this is a biased / unbalanced attribute!"
   ]
  },
  {
   "cell_type": "markdown",
   "metadata": {},
   "source": [
    "#### 5c. Exploring effect of number of checkins on Restaurant_Category (Star Rating)"
   ]
  },
  {
   "cell_type": "markdown",
   "metadata": {},
   "source": [
    " "
   ]
  },
  {
   "cell_type": "code",
   "execution_count": 452,
   "metadata": {},
   "outputs": [
    {
     "data": {
      "image/png": "[encoded data removed]",
      "text/plain": [
       "<matplotlib.figure.Figure at 0x443b5bdd8>"
      ]
     },
     "metadata": {},
     "output_type": "display_data"
    }
   ],
   "source": [
    "plt.figure(figsize=(8,5))\n",
    "sns.set_context(\"paper\", font_scale=1.6)\n",
    "sns.regplot(x=data[\"checkins\"], y=data[\"stars\"])\n",
    "plt.title('Scatter Plot of Checkins v/s Star Rating')\n",
    "plt.show()"
   ]
  },
  {
   "cell_type": "code",
   "execution_count": 459,
   "metadata": {},
   "outputs": [
    {
     "data": {
      "text/plain": [
       "<matplotlib.collections.PathCollection at 0x455d2c470>"
      ]
     },
     "execution_count": 459,
     "metadata": {},
     "output_type": "execute_result"
    },
    {
     "data": {
      "image/png": "[encoded data removed]",
      "text/plain": [
       "<matplotlib.figure.Figure at 0x443ab3e48>"
      ]
     },
     "metadata": {},
     "output_type": "display_data"
    }
   ],
   "source": [
    "plt.title('Scatter Plot of checkins v/s Star Rating')\n",
    "sns.set_context(\"paper\", font_scale=1.6)\n",
    "plt.scatter(data['stars'], data2['checkins'], s=600, c=\"green\", alpha=0.1)"
   ]
  },
  {
   "cell_type": "code",
   "execution_count": null,
   "metadata": {},
   "outputs": [],
   "source": [
    "## Observation:\n",
    "## Star Rating (and therefore, restaurant_category) seem to have a weak relationship with \n",
    "## number of checkins . Moreover, some of the average rating restaurants have a high number of checkins\n",
    "## compared to the average. Again this is interesting and has an explanation. \n",
    "## Most average rating restaurants give out discounts or deals upon mandatory checkins to boost customer footfalls!"
   ]
  },
  {
   "cell_type": "markdown",
   "metadata": {},
   "source": [
    "#### 5d. Compare all three effects"
   ]
  },
  {
   "cell_type": "markdown",
   "metadata": {},
   "source": [
    " "
   ]
  },
  {
   "cell_type": "code",
   "execution_count": 463,
   "metadata": {},
   "outputs": [
    {
     "data": {
      "text/plain": [
       "<matplotlib.axes._subplots.AxesSubplot at 0x44be3e390>"
      ]
     },
     "execution_count": 463,
     "metadata": {},
     "output_type": "execute_result"
    },
    {
     "data": {
      "image/png": "[encoded data removed]",
      "text/plain": [
       "<matplotlib.figure.Figure at 0x452fc7358>"
      ]
     },
     "metadata": {},
     "output_type": "display_data"
    }
   ],
   "source": [
    "plt.figure(figsize=(18,5))\n",
    "sns.set_context(\"paper\", font_scale=1.3)\n",
    "plt.subplot(1,3,1)\n",
    "sns.violinplot(x='restaurant_category',y='net_positive_sentiment_score_review',data=data, shade = True, palette=\"Set2\")\n",
    "plt.subplot(1,3,2)\n",
    "sns.violinplot(x='restaurant_category',y='net_positive_sentiment_score_tip',data=data, shade = True, palette=\"Set2\")\n",
    "plt.subplot(1,3,3)\n",
    "sns.violinplot(x='restaurant_category',y='checkins',data=data, shade = True, palette=\"Set2\")\n",
    "#plt.title('Violin Plot of No of Checkins v/s Restaurant Category (Star Rating)')"
   ]
  },
  {
   "cell_type": "markdown",
   "metadata": {},
   "source": [
    "### Step 6. Machine Learning"
   ]
  },
  {
   "cell_type": "markdown",
   "metadata": {},
   "source": [
    "###### 6a. Creating test and training datasets"
   ]
  },
  {
   "cell_type": "code",
   "execution_count": 261,
   "metadata": {},
   "outputs": [],
   "source": [
    "final_data = data[['business_id', 'restaurant_category', 'checkins', 'net_positive_sentiment_score_review', \n",
    "                  'net_positive_sentiment_score_tip']]"
   ]
  },
  {
   "cell_type": "code",
   "execution_count": 262,
   "metadata": {},
   "outputs": [
    {
     "data": {
      "text/html": [
       "<div>\n",
       "<style scoped>\n",
       "    .dataframe tbody tr th:only-of-type {\n",
       "        vertical-align: middle;\n",
       "    }\n",
       "\n",
       "    .dataframe tbody tr th {\n",
       "        vertical-align: top;\n",
       "    }\n",
       "\n",
       "    .dataframe thead th {\n",
       "        text-align: right;\n",
       "    }\n",
       "</style>\n",
       "<table border=\"1\" class=\"dataframe\">\n",
       "  <thead>\n",
       "    <tr style=\"text-align: right;\">\n",
       "      <th></th>\n",
       "      <th>business_id</th>\n",
       "      <th>restaurant_category</th>\n",
       "      <th>checkins</th>\n",
       "      <th>net_positive_sentiment_score_review</th>\n",
       "      <th>net_positive_sentiment_score_tip</th>\n",
       "    </tr>\n",
       "  </thead>\n",
       "  <tbody>\n",
       "    <tr>\n",
       "      <th>2</th>\n",
       "      <td>QcTpYpgEYSZ6vPGgz3LiDQ</td>\n",
       "      <td>Not Really</td>\n",
       "      <td>4.0</td>\n",
       "      <td>0.00</td>\n",
       "      <td>0.0</td>\n",
       "    </tr>\n",
       "    <tr>\n",
       "      <th>4</th>\n",
       "      <td>e1UF53wfi3HKNmPHzc3OLg</td>\n",
       "      <td>Not Really</td>\n",
       "      <td>36.0</td>\n",
       "      <td>0.18</td>\n",
       "      <td>1.0</td>\n",
       "    </tr>\n",
       "    <tr>\n",
       "      <th>5</th>\n",
       "      <td>iYQPfLcPQXiYi-kycrm2rw</td>\n",
       "      <td>Not Really</td>\n",
       "      <td>2.0</td>\n",
       "      <td>0.16</td>\n",
       "      <td>1.0</td>\n",
       "    </tr>\n",
       "    <tr>\n",
       "      <th>7</th>\n",
       "      <td>RUbB6951mueG7dm6lIpkcg</td>\n",
       "      <td>Not Really</td>\n",
       "      <td>41.0</td>\n",
       "      <td>0.40</td>\n",
       "      <td>1.0</td>\n",
       "    </tr>\n",
       "    <tr>\n",
       "      <th>8</th>\n",
       "      <td>u7bjH0lJcE7Q4BFlKTPJcg</td>\n",
       "      <td>Not Really</td>\n",
       "      <td>10.0</td>\n",
       "      <td>0.00</td>\n",
       "      <td>1.0</td>\n",
       "    </tr>\n",
       "  </tbody>\n",
       "</table>\n",
       "</div>"
      ],
      "text/plain": [
       "              business_id restaurant_category  checkins  \\\n",
       "2  QcTpYpgEYSZ6vPGgz3LiDQ          Not Really       4.0   \n",
       "4  e1UF53wfi3HKNmPHzc3OLg          Not Really      36.0   \n",
       "5  iYQPfLcPQXiYi-kycrm2rw          Not Really       2.0   \n",
       "7  RUbB6951mueG7dm6lIpkcg          Not Really      41.0   \n",
       "8  u7bjH0lJcE7Q4BFlKTPJcg          Not Really      10.0   \n",
       "\n",
       "   net_positive_sentiment_score_review  net_positive_sentiment_score_tip  \n",
       "2                                 0.00                               0.0  \n",
       "4                                 0.18                               1.0  \n",
       "5                                 0.16                               1.0  \n",
       "7                                 0.40                               1.0  \n",
       "8                                 0.00                               1.0  "
      ]
     },
     "execution_count": 262,
     "metadata": {},
     "output_type": "execute_result"
    }
   ],
   "source": [
    "final_data.head()"
   ]
  },
  {
   "cell_type": "code",
   "execution_count": 339,
   "metadata": {},
   "outputs": [],
   "source": [
    "X = final_data[['checkins', 'net_positive_sentiment_score_review', 'net_positive_sentiment_score_tip']]\n",
    "y = final_data[['restaurant_category']].values.ravel()"
   ]
  },
  {
   "cell_type": "code",
   "execution_count": 345,
   "metadata": {},
   "outputs": [],
   "source": [
    "## Action:\n",
    "## Scaling the features\n",
    "\n",
    "scaler = StandardScaler()\n",
    "scaler.fit(X)\n",
    "X = scaler.transform(X)\n",
    "X_train, X_test, y_train, y_test = train_test_split(X, y, test_size=0.3)"
   ]
  },
  {
   "cell_type": "code",
   "execution_count": 412,
   "metadata": {},
   "outputs": [],
   "source": [
    "classifiers = []\n",
    "accuracies = []"
   ]
  },
  {
   "cell_type": "markdown",
   "metadata": {},
   "source": [
    "#### 6b. Support Vector Machine"
   ]
  },
  {
   "cell_type": "code",
   "execution_count": 413,
   "metadata": {},
   "outputs": [
    {
     "name": "stdout",
     "output_type": "stream",
     "text": [
      "0.7273\n"
     ]
    }
   ],
   "source": [
    "clf = svm.SVC(kernel = 'rbf', C = 100) \n",
    "clf = clf.fit(X_train, y_train)\n",
    "pred = clf.predict(X_test)\n",
    "accuracy = accuracy_score(pred, y_test)\n",
    "classifiers.append('svm.SVC')\n",
    "accuracies.append(accuracy)\n",
    "print(round(accuracy, 4))"
   ]
  },
  {
   "cell_type": "markdown",
   "metadata": {},
   "source": [
    "#### 6c. Decision Tree"
   ]
  },
  {
   "cell_type": "code",
   "execution_count": 414,
   "metadata": {},
   "outputs": [
    {
     "name": "stdout",
     "output_type": "stream",
     "text": [
      "0.6818\n"
     ]
    }
   ],
   "source": [
    "clf = tree.DecisionTreeClassifier(max_depth = 5) \n",
    "clf = clf.fit(X_train, y_train)\n",
    "pred = clf.predict(X_test)\n",
    "accuracy = accuracy_score(pred, y_test)\n",
    "classifiers.append('DecisionTreeClassifier')\n",
    "accuracies.append(accuracy)\n",
    "print(round(accuracy, 4))"
   ]
  },
  {
   "cell_type": "markdown",
   "metadata": {},
   "source": [
    "#### 6d. Logistic Regression"
   ]
  },
  {
   "cell_type": "code",
   "execution_count": 415,
   "metadata": {},
   "outputs": [
    {
     "name": "stdout",
     "output_type": "stream",
     "text": [
      "0.6591\n"
     ]
    }
   ],
   "source": [
    "clf = LogisticRegression()\n",
    "clf = clf.fit(X_train, y_train)\n",
    "pred = clf.predict(X_test)\n",
    "accuracy = accuracy_score(pred, y_test)\n",
    "classifiers.append('LogisticRegression')\n",
    "accuracies.append(accuracy)\n",
    "print(round(accuracy, 4))"
   ]
  },
  {
   "cell_type": "markdown",
   "metadata": {},
   "source": [
    "#### 6e. Gaussian Naive Bayes"
   ]
  },
  {
   "cell_type": "code",
   "execution_count": 416,
   "metadata": {},
   "outputs": [
    {
     "name": "stdout",
     "output_type": "stream",
     "text": [
      "0.6818\n"
     ]
    }
   ],
   "source": [
    "clf = GaussianNB() \n",
    "clf = clf.fit(X_train, y_train)\n",
    "pred = clf.predict(X_test)\n",
    "accuracy = accuracy_score(pred, y_test)\n",
    "classifiers.append('GaussianNB')\n",
    "accuracies.append(accuracy)\n",
    "print(round(accuracy, 4))"
   ]
  },
  {
   "cell_type": "markdown",
   "metadata": {},
   "source": [
    "#### 6f. K Neighbours "
   ]
  },
  {
   "cell_type": "code",
   "execution_count": 417,
   "metadata": {},
   "outputs": [
    {
     "name": "stdout",
     "output_type": "stream",
     "text": [
      "0.6818\n"
     ]
    }
   ],
   "source": [
    "clf = KNeighborsClassifier()\n",
    "clf = clf.fit(X_train, y_train)\n",
    "pred = clf.predict(X_test)\n",
    "accuracy = accuracy_score(pred, y_test)\n",
    "print(round(accuracy, 4))"
   ]
  },
  {
   "cell_type": "code",
   "execution_count": 418,
   "metadata": {},
   "outputs": [
    {
     "data": {
      "text/plain": [
       "([<matplotlib.axis.XTick at 0x44940ecc0>,\n",
       "  <matplotlib.axis.XTick at 0x44940e7f0>,\n",
       "  <matplotlib.axis.XTick at 0x44940ee10>,\n",
       "  <matplotlib.axis.XTick at 0x44942d5f8>,\n",
       "  <matplotlib.axis.XTick at 0x44942dc88>,\n",
       "  <matplotlib.axis.XTick at 0x449434358>,\n",
       "  <matplotlib.axis.XTick at 0x4494349e8>,\n",
       "  <matplotlib.axis.XTick at 0x4494390b8>,\n",
       "  <matplotlib.axis.XTick at 0x449439748>,\n",
       "  <matplotlib.axis.XTick at 0x449439dd8>],\n",
       " <a list of 10 Text xticklabel objects>)"
      ]
     },
     "execution_count": 418,
     "metadata": {},
     "output_type": "execute_result"
    },
    {
     "data": {
      "image/png": "[encoded data removed]",
      "text/plain": [
       "<matplotlib.figure.Figure at 0x44936e630>"
      ]
     },
     "metadata": {},
     "output_type": "display_data"
    }
   ],
   "source": [
    "l=list(range(1,50))\n",
    "a=pd.Series()\n",
    "x=[5,10,15,20,25,30,35,40,45,50]\n",
    "for i in l:\n",
    "    clf = KNeighborsClassifier(n_neighbors=i) \n",
    "    clf.fit(X_train, y_train)\n",
    "    pred = clf.predict(X_test)\n",
    "    a = a.append(pd.Series(accuracy_score(pred, y_test)))\n",
    "plt.title('Find optimum number of neighbors')\n",
    "plt.plot(l, a)\n",
    "plt.xticks(x)"
   ]
  },
  {
   "cell_type": "code",
   "execution_count": 419,
   "metadata": {},
   "outputs": [
    {
     "name": "stdout",
     "output_type": "stream",
     "text": [
      "0.7045\n"
     ]
    }
   ],
   "source": [
    "clf = KNeighborsClassifier(n_neighbors = 12)\n",
    "clf = clf.fit(X_train, y_train)\n",
    "pred = clf.predict(X_test)\n",
    "accuracy = accuracy_score(pred, y_test)\n",
    "classifiers.append('KNeighborsClassifier')\n",
    "accuracies.append(accuracy)\n",
    "print(round(accuracy, 4))"
   ]
  },
  {
   "cell_type": "markdown",
   "metadata": {},
   "source": [
    "### Step 7. Model Comparison"
   ]
  },
  {
   "cell_type": "markdown",
   "metadata": {},
   "source": [
    " "
   ]
  },
  {
   "cell_type": "code",
   "execution_count": 464,
   "metadata": {},
   "outputs": [
    {
     "data": {
      "image/png": "[encoded data removed]",
      "text/plain": [
       "<matplotlib.figure.Figure at 0x44b1690f0>"
      ]
     },
     "metadata": {},
     "output_type": "display_data"
    }
   ],
   "source": [
    "plt.figure(figsize=(12,5))\n",
    "sns.set_context(\"paper\", font_scale=1.6)\n",
    "plt.scatter(classifiers, accuracies, s=600, c=\"green\", alpha=0.4)\n",
    "# plt.figure(figsize=(8,5))\n",
    "# sns.regplot(x=classifiers, y=accuracies)\n",
    "plt.title('Accuracy vs Classifiers')\n",
    "plt.show()"
   ]
  },
  {
   "cell_type": "code",
   "execution_count": null,
   "metadata": {},
   "outputs": [],
   "source": [
    "## Deep Learning"
   ]
  },
  {
   "cell_type": "code",
   "execution_count": null,
   "metadata": {},
   "outputs": [],
   "source": [
    "# TRAIN_URL = \"http://download.tensorflow.org/data/iris_training.csv\"\n",
    "# TEST_URL = \"http://download.tensorflow.org/data/iris_test.csv\"\n",
    "\n",
    "# CSV_COLUMN_NAMES = ['SepalLength', 'SepalWidth',\n",
    "#                     'PetalLength', 'PetalWidth', 'Species']\n",
    "# SPECIES = ['Setosa', 'Versicolor', 'Virginica']\n",
    "\n",
    "# def maybe_download():\n",
    "#     train_path = tf.keras.utils.get_file(TRAIN_URL.split('/')[-1], TRAIN_URL)\n",
    "#     test_path = tf.keras.utils.get_file(TEST_URL.split('/')[-1], TEST_URL)\n",
    "\n",
    "#     return train_path, test_path\n",
    "\n",
    "# def load_data(y_name='Species'):\n",
    "#     \"\"\"Returns the iris dataset as (train_x, train_y), (test_x, test_y).\"\"\"\n",
    "#     train_path, test_path = maybe_download()\n",
    "\n",
    "#     train = pd.read_csv(train_path, names=CSV_COLUMN_NAMES, header=0)\n",
    "#     train_x, train_y = train, train.pop(y_name)\n",
    "\n",
    "#     test = pd.read_csv(test_path, names=CSV_COLUMN_NAMES, header=0)\n",
    "#     test_x, test_y = test, test.pop(y_name)\n",
    "\n",
    "#     return (train_x, train_y), (test_x, test_y)\n",
    "\n",
    "\n",
    "def train_input_fn(features, labels, batch_size):\n",
    "    \"\"\"An input function for training\"\"\"\n",
    "    # Convert the inputs to a Dataset.\n",
    "    #dataset = tf.data.Dataset.from_tensor_slices((dict(features), labels))\n",
    "    dataset = final_data\n",
    "\n",
    "    # Shuffle, repeat, and batch the examples.\n",
    "    dataset = dataset.shuffle(1000).repeat().batch(batch_size)\n",
    "\n",
    "    # Return the dataset.\n",
    "    return dataset\n",
    "\n",
    "\n",
    "def eval_input_fn(features, labels, batch_size):\n",
    "    \"\"\"An input function for evaluation or prediction\"\"\"\n",
    "    features=dict(features)\n",
    "    if labels is None:\n",
    "        # No labels, use only features.\n",
    "        inputs = features\n",
    "    else:\n",
    "        inputs = (features, labels)\n",
    "\n",
    "    # Convert the inputs to a Dataset.\n",
    "    dataset = tf.data.Dataset.from_tensor_slices(inputs)\n",
    "\n",
    "    # Batch the examples\n",
    "    assert batch_size is not None, \"batch_size must not be None\"\n",
    "    dataset = dataset.batch(batch_size)\n",
    "\n",
    "    # Return the dataset.\n",
    "    return dataset\n",
    "\n",
    "\n",
    "# The remainder of this file contains a simple example of a csv parser,\n",
    "#     implemented using a the `Dataset` class.\n",
    "\n",
    "# `tf.parse_csv` sets the types of the outputs to match the examples given in\n",
    "#     the `record_defaults` argument.\n",
    "CSV_TYPES = [[0.0], [0.0], [0.0], [0.0], [0]]\n",
    "\n",
    "def _parse_line(line):\n",
    "    # Decode the line into its fields\n",
    "    fields = tf.decode_csv(line, record_defaults=CSV_TYPES)\n",
    "\n",
    "    # Pack the result into a dictionary\n",
    "    features = dict(zip(CSV_COLUMN_NAMES, fields))\n",
    "\n",
    "    # Separate the label from the features\n",
    "    label = features.pop('Species')\n",
    "\n",
    "    return features, label\n",
    "\n",
    "\n",
    "def csv_input_fn(csv_path, batch_size):\n",
    "    # Create a dataset containing the text lines.\n",
    "    dataset = tf.data.TextLineDataset(csv_path).skip(1)\n",
    "\n",
    "    # Parse each line.\n",
    "    dataset = dataset.map(_parse_line)\n",
    "\n",
    "    # Shuffle, repeat, and batch the examples.\n",
    "    dataset = dataset.shuffle(1000).repeat().batch(batch_size)\n",
    "\n",
    "    # Return the dataset.\n",
    "    return dataset"
   ]
  },
  {
   "cell_type": "markdown",
   "metadata": {},
   "source": [
    " "
   ]
  },
  {
   "cell_type": "markdown",
   "metadata": {},
   "source": [
    "## K-Means Clustering Analysis"
   ]
  },
  {
   "cell_type": "markdown",
   "metadata": {},
   "source": [
    " "
   ]
  },
  {
   "cell_type": "code",
   "execution_count": 492,
   "metadata": {},
   "outputs": [],
   "source": [
    "from sklearn.cluster import KMeans\n",
    "km = KMeans(n_clusters=3,init='random',n_init=10,max_iter=300,tol=1e-04,random_state=0)\n",
    "#km = KMeans()\n",
    "y_km = km.fit_predict(X)"
   ]
  },
  {
   "cell_type": "code",
   "execution_count": 540,
   "metadata": {},
   "outputs": [
    {
     "data": {
      "image/png": "[encoded data removed]",
      "text/plain": [
       "<matplotlib.figure.Figure at 0x491244080>"
      ]
     },
     "metadata": {},
     "output_type": "display_data"
    }
   ],
   "source": [
    "plt.figure(figsize=(10,6))\n",
    "plt.scatter(X[y_km == 0, 0], X[y_km == 0, 1], s=300, c='cyan', marker='o', alpha = 0.3, edgecolor='black', label='cluster 1')\n",
    "plt.scatter(X[y_km == 1, 0], X[y_km == 1, 1], s=300, c='red', marker='o', alpha = 0.3, edgecolor='black', label='cluster 2')\n",
    "plt.scatter(X[y_km == 2, 0], X[y_km == 2, 1], s=300, c='gold', marker='o', alpha = 0.3, edgecolor='black', label='cluster 3')\n",
    "plt.scatter(km.cluster_centers_[:, 0], km.cluster_centers_[:, 1], s=500, marker='*', c='red', edgecolor='black', label='centroids')\n",
    "plt.legend(scatterpoints=1)\n",
    "plt.show()"
   ]
  },
  {
   "cell_type": "code",
   "execution_count": 547,
   "metadata": {},
   "outputs": [
    {
     "data": {
      "image/png": "[encoded data removed]",
      "text/plain": [
       "<matplotlib.figure.Figure at 0x4971350f0>"
      ]
     },
     "metadata": {},
     "output_type": "display_data"
    }
   ],
   "source": [
    "plt.figure(figsize=(10,6))\n",
    "distortions = []\n",
    "for i in range(1, 11):\n",
    "    km = KMeans(n_clusters=i, init='k-means++', n_init=10, max_iter=300, random_state=0)\n",
    "    km.fit(X)\n",
    "    distortions.append(km.inertia_)\n",
    "plt.plot(range(1,11), distortions, marker='o', alpha = 0.5, color = \"fuchsia\")\n",
    "plt.xlabel('Number of clusters')\n",
    "plt.ylabel('Distortion')\n",
    "plt.show()"
   ]
  },
  {
   "cell_type": "code",
   "execution_count": 494,
   "metadata": {},
   "outputs": [],
   "source": [
    "from sklearn.cluster import KMeans\n",
    "km = KMeans(n_clusters=4,init='random',n_init=10,max_iter=300,tol=1e-04,random_state=0)\n",
    "#km = KMeans()\n",
    "y_km = km.fit_predict(X)"
   ]
  },
  {
   "cell_type": "code",
   "execution_count": 539,
   "metadata": {},
   "outputs": [
    {
     "data": {
      "image/png": "[encoded data removed]",
      "text/plain": [
       "<matplotlib.figure.Figure at 0x4919e5550>"
      ]
     },
     "metadata": {},
     "output_type": "display_data"
    }
   ],
   "source": [
    "plt.figure(figsize=(10,6))\n",
    "sns.set_context(\"paper\", font_scale=1.6)\n",
    "plt.scatter(X[y_km == 0, 0], X[y_km == 0, 1], s=400, c='cyan', marker='o', alpha = 0.3, edgecolor='black', label='cluster 1')\n",
    "plt.scatter(X[y_km == 1, 0], X[y_km == 1, 1], s=400, c='salmon', marker='o', alpha = 0.3, edgecolor='black', label='cluster 2')\n",
    "plt.scatter(X[y_km == 2, 0], X[y_km == 2, 1], s=400, c='gold', marker='o', alpha = 0.3, edgecolor='black', label='cluster 3')\n",
    "plt.scatter(X[y_km == 3, 0], X[y_km == 3, 1], s=400, c='lime', marker='o', alpha = 0.3, edgecolor='black', label='cluster 4')\n",
    "plt.scatter(km.cluster_centers_[:, 0], km.cluster_centers_[:, 1], s=800, marker='*', c='red', edgecolor='black', label='centroids')\n",
    "plt.legend(scatterpoints=1)\n",
    "#plt.grid()\n",
    "plt.show()"
   ]
  },
  {
   "cell_type": "code",
   "execution_count": null,
   "metadata": {},
   "outputs": [],
   "source": [
    "km = KMeans(n_clusters=3, init='k-means++', n_init=10, max_iter=300, tol=1e-04, random_state=0)\n",
    "y_km = km.fit_predict(X)\n",
    "\n",
    "from matplotlib import cm\n",
    "from sklearn.metrics import silhouette_samples\n",
    "\n",
    "cluster_labels = np.unique(y_km)\n",
    "n_clusters = cluster_labels.shape[0]\n",
    "silhouette_vals = silhouette_samples(X, y_km, metric='euclidean')\n",
    "y_ax_lower, y_ax_upper = 0, 0\n",
    "yticks = []\n",
    "for i, c in enumerate(cluster_labels):\n",
    "    c_silhouette_vals = silhouette_vals[y_km == c]\n",
    "    c_silhouette_vals.sort()"
   ]
  },
  {
   "cell_type": "code",
   "execution_count": 548,
   "metadata": {},
   "outputs": [
    {
     "data": {
      "image/png": "[encoded data removed]",
      "text/plain": [
       "<matplotlib.figure.Figure at 0x497fc0ef0>"
      ]
     },
     "metadata": {},
     "output_type": "display_data"
    }
   ],
   "source": [
    "km = KMeans(n_clusters=3, init='k-means++', n_init=10, max_iter=300, tol=1e-04, random_state=0)\n",
    "y_km = km.fit_predict(X)\n",
    "\n",
    "from matplotlib import cm\n",
    "from sklearn.metrics import silhouette_samples\n",
    "\n",
    "cluster_labels = np.unique(y_km)\n",
    "n_clusters = cluster_labels.shape[0]\n",
    "silhouette_vals = silhouette_samples(X, y_km, metric='euclidean')\n",
    "y_ax_lower, y_ax_upper = 0, 0\n",
    "yticks = []\n",
    "for i, c in enumerate(cluster_labels):\n",
    "    c_silhouette_vals = silhouette_vals[y_km == c]\n",
    "    c_silhouette_vals.sort()\n",
    "    y_ax_upper += len(c_silhouette_vals)\n",
    "    color = cm.jet(float(i)/n_clusters)\n",
    "    plt.barh(range(y_ax_lower, y_ax_upper), c_silhouette_vals, height = 1.0, edgecolor = 'none', color = color)\n",
    "    yticks.append((y_ax_lower + y_ax_upper) /2.)\n",
    "    y_ax_lower += len(c_silhouette_vals)\n",
    "silhouette_avg = np.mean(silhouette_vals)\n",
    "plt.axvline(silhouette_avg, color=\"red\", linestyle=\"--\")\n",
    "plt.yticks(yticks, cluster_labels + 1)\n",
    "plt.ylabel('Cluster')\n",
    "plt.xlabel('Silhouette coefficient')\n",
    "plt.show()\n"
   ]
  }
 ],
 "metadata": {
  "kernelspec": {
   "display_name": "Python 3",
   "language": "python",
   "name": "python3"
  },
  "language_info": {
   "codemirror_mode": {
    "name": "ipython",
    "version": 3
   },
   "file_extension": ".py",
   "mimetype": "text/x-python",
   "name": "python",
   "nbconvert_exporter": "python",
   "pygments_lexer": "ipython3",
   "version": "3.6.3"
  }
 },
 "nbformat": 4,
 "nbformat_minor": 2
}

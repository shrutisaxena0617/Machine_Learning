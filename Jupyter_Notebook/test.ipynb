{
 "cells": [
  {
   "cell_type": "markdown",
   "metadata": {},
   "source": [
    "<h1><color = \"Grey\"><center> Yelp Analytics </center></color</h1>"
   ]
  },
  {
   "cell_type": "markdown",
   "metadata": {},
   "source": [
    "<h2><center> Customer Review Sentiment Analysis & Restaurant Classification </center></h2>"
   ]
  },
  {
   "cell_type": "markdown",
   "metadata": {},
   "source": [
    "<img src=\"../images/5-steps-getting-business-ranked-yelp.jpg\">"
   ]
  },
  {
   "cell_type": "markdown",
   "metadata": {},
   "source": [
    "Back to the main [Index](../Index.ipynb)"
   ]
  },
  {
   "cell_type": "markdown",
   "metadata": {},
   "source": [
    "# Introduction"
   ]
  },
  {
   "cell_type": "markdown",
   "metadata": {},
   "source": [
    "* ** Goal : Multi-level Classification **\n",
    "\n",
    "\n",
    "    * Customer Reviews Sentiment Analysis (Positive, Negative)\n",
    "    * Classification of restaurants (Awesome, Average, Not Really!)\n",
    "\n",
    "\n",
    "* ** Data **\n",
    "\n",
    "\n",
    "    * Business, checkins, reviews, tips\n",
    "\n",
    "\n",
    "* ** Approach **"
   ]
  },
  {
   "cell_type": "markdown",
   "metadata": {},
   "source": [
    "<img src=\"../images/Picture1.png\">"
   ]
  },
  {
   "cell_type": "markdown",
   "metadata": {},
   "source": [
    "[Another Cell](#another_cell)"
   ]
  },
  {
   "cell_type": "markdown",
   "metadata": {},
   "source": [
    "<a id = 'another_cell'> </a>"
   ]
  },
  {
   "cell_type": "markdown",
   "metadata": {},
   "source": [
    "Another cell"
   ]
  },
  {
   "cell_type": "markdown",
   "metadata": {},
   "source": [
    "## Tutorials"
   ]
  },
  {
   "cell_type": "markdown",
   "metadata": {},
   "source": [
    "* [Cell Magics](Cell Magics.ipynb)\n",
    "* [Script Magics](Script Magics.ipynb)\n",
    "* [Rich Output](Rich Output.ipynb)\n",
    "* [Custom Display Logic](Custom Display Logic.ipynb)\n",
    "* [Plotting in the Notebook](Plotting in the Notebook.ipynb)\n",
    "* [Capturing Output](Capturing Output.ipynb)"
   ]
  },
  {
   "cell_type": "markdown",
   "metadata": {},
   "source": [
    "## Examples"
   ]
  },
  {
   "cell_type": "markdown",
   "metadata": {},
   "source": [
    "* [Background Jobs](Background Jobs.ipynb)\n",
    "* [Trapezoid Rule](Trapezoid Rule.ipynb)\n",
    "* [SymPy](SymPy.ipynb)\n",
    "* [Raw Input in the Notebook](Raw Input in the Notebook.ipynb)"
   ]
  },
  {
   "cell_type": "markdown",
   "metadata": {},
   "source": [
    "## Non-notebook examples"
   ]
  },
  {
   "cell_type": "markdown",
   "metadata": {},
   "source": [
    "This directory also contains examples that are regular Python (`.py`) files."
   ]
  },
  {
   "cell_type": "code",
   "execution_count": 1,
   "metadata": {},
   "outputs": [
    {
     "data": {
      "text/html": [
       "<a href='example-demo.py' target='_blank'>example-demo.py</a><br>"
      ],
      "text/plain": [
       "/Users/minrk/dev/ip/mine/examples/IPython Kernel/example-demo.py"
      ]
     },
     "metadata": {},
     "output_type": "display_data"
    },
    {
     "data": {
      "text/html": [
       "<a href='ipython-get-history.py' target='_blank'>ipython-get-history.py</a><br>"
      ],
      "text/plain": [
       "/Users/minrk/dev/ip/mine/examples/IPython Kernel/ipython-get-history.py"
      ]
     },
     "metadata": {},
     "output_type": "display_data"
    }
   ],
   "source": [
    "%run ../utils/list_pyfiles.ipy"
   ]
  },
  {
   "cell_type": "markdown",
   "metadata": {},
   "source": [
    "There are also a set of examples that show how to integrate IPython with different GUI event loops:"
   ]
  },
  {
   "cell_type": "code",
   "execution_count": 2,
   "metadata": {},
   "outputs": [
    {
     "data": {
      "text/html": [
       "data/<br>\n",
       "&nbsp;&nbsp;<a href='data/flare.json' target='_blank'>flare.json</a><br>"
      ],
      "text/plain": [
       "data/\n",
       "  flare.json"
      ]
     },
     "metadata": {},
     "output_type": "display_data"
    },
    {
     "data": {
      "text/html": [
       "gui/<br>\n",
       "&nbsp;&nbsp;<a href='gui/gui-glut.py' target='_blank'>gui-glut.py</a><br>\n",
       "&nbsp;&nbsp;<a href='gui/gui-gtk.py' target='_blank'>gui-gtk.py</a><br>\n",
       "&nbsp;&nbsp;<a href='gui/gui-gtk3.py' target='_blank'>gui-gtk3.py</a><br>\n",
       "&nbsp;&nbsp;<a href='gui/gui-pyglet.py' target='_blank'>gui-pyglet.py</a><br>\n",
       "&nbsp;&nbsp;<a href='gui/gui-qt.py' target='_blank'>gui-qt.py</a><br>\n",
       "&nbsp;&nbsp;<a href='gui/gui-tk.py' target='_blank'>gui-tk.py</a><br>\n",
       "&nbsp;&nbsp;<a href='gui/gui-wx.py' target='_blank'>gui-wx.py</a><br>"
      ],
      "text/plain": [
       "gui/\n",
       "  gui-glut.py\n",
       "  gui-gtk.py\n",
       "  gui-gtk3.py\n",
       "  gui-pyglet.py\n",
       "  gui-qt.py\n",
       "  gui-tk.py\n",
       "  gui-wx.py"
      ]
     },
     "metadata": {},
     "output_type": "display_data"
    }
   ],
   "source": [
    "%run ../utils/list_subdirs.ipy"
   ]
  }
 ],
 "metadata": {
  "kernelspec": {
   "display_name": "Python 3",
   "language": "python",
   "name": "python3"
  },
  "language_info": {
   "codemirror_mode": {
    "name": "ipython",
    "version": 3
   },
   "file_extension": ".py",
   "mimetype": "text/x-python",
   "name": "python",
   "nbconvert_exporter": "python",
   "pygments_lexer": "ipython3",
   "version": "3.6.3"
  }
 },
 "nbformat": 4,
 "nbformat_minor": 1
}

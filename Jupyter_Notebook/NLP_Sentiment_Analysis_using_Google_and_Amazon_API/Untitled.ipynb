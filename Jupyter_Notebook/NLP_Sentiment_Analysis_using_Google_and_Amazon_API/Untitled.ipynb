{
 "cells": [
  {
   "cell_type": "markdown",
   "metadata": {},
   "source": [
    "# NLP | Sentiment Analysis using Amazon Comprehend"
   ]
  },
  {
   "cell_type": "code",
   "execution_count": 1,
   "metadata": {},
   "outputs": [],
   "source": [
    "import pandas as pd\n",
    "import boto3"
   ]
  },
  {
   "cell_type": "code",
   "execution_count": 2,
   "metadata": {},
   "outputs": [
    {
     "data": {
      "text/html": [
       "<div>\n",
       "<style scoped>\n",
       "    .dataframe tbody tr th:only-of-type {\n",
       "        vertical-align: middle;\n",
       "    }\n",
       "\n",
       "    .dataframe tbody tr th {\n",
       "        vertical-align: top;\n",
       "    }\n",
       "\n",
       "    .dataframe thead th {\n",
       "        text-align: right;\n",
       "    }\n",
       "</style>\n",
       "<table border=\"1\" class=\"dataframe\">\n",
       "  <thead>\n",
       "    <tr style=\"text-align: right;\">\n",
       "      <th></th>\n",
       "      <th>text</th>\n",
       "      <th>date</th>\n",
       "      <th>likes</th>\n",
       "      <th>business_id</th>\n",
       "      <th>user_id</th>\n",
       "    </tr>\n",
       "  </thead>\n",
       "  <tbody>\n",
       "    <tr>\n",
       "      <th>0</th>\n",
       "      <td>Great breakfast large portions and friendly wa...</td>\n",
       "      <td>8/12/15</td>\n",
       "      <td>0.0</td>\n",
       "      <td>jH19V2I9fIslnNhDzPmdkA</td>\n",
       "      <td>ZcLKXikTHYOnYt5VYRO5sg</td>\n",
       "    </tr>\n",
       "    <tr>\n",
       "      <th>1</th>\n",
       "      <td>Nice place. Great staff.  A fixture in the tow...</td>\n",
       "      <td>6/20/14</td>\n",
       "      <td>0.0</td>\n",
       "      <td>dAa0hB2yrnHzVmsCkN4YvQ</td>\n",
       "      <td>oaYhjqBbh18ZhU0bpyzSuw</td>\n",
       "    </tr>\n",
       "    <tr>\n",
       "      <th>2</th>\n",
       "      <td>Happy hour 5-7 Monday - Friday</td>\n",
       "      <td>10/12/16</td>\n",
       "      <td>0.0</td>\n",
       "      <td>dAa0hB2yrnHzVmsCkN4YvQ</td>\n",
       "      <td>ulQ8Nyj7jCUR8M83SUMoRQ</td>\n",
       "    </tr>\n",
       "    <tr>\n",
       "      <th>3</th>\n",
       "      <td>Parking is a premium, keep circling, you will ...</td>\n",
       "      <td>1/28/17</td>\n",
       "      <td>0.0</td>\n",
       "      <td>ESzO3Av0b1_TzKOiqzbQYQ</td>\n",
       "      <td>ulQ8Nyj7jCUR8M83SUMoRQ</td>\n",
       "    </tr>\n",
       "    <tr>\n",
       "      <th>4</th>\n",
       "      <td>Homemade pasta is the best in the area</td>\n",
       "      <td>2/25/17</td>\n",
       "      <td>0.0</td>\n",
       "      <td>k7WRPbDd7rztjHcGGkEjlw</td>\n",
       "      <td>ulQ8Nyj7jCUR8M83SUMoRQ</td>\n",
       "    </tr>\n",
       "  </tbody>\n",
       "</table>\n",
       "</div>"
      ],
      "text/plain": [
       "                                                text      date  likes  \\\n",
       "0  Great breakfast large portions and friendly wa...   8/12/15    0.0   \n",
       "1  Nice place. Great staff.  A fixture in the tow...   6/20/14    0.0   \n",
       "2                     Happy hour 5-7 Monday - Friday  10/12/16    0.0   \n",
       "3  Parking is a premium, keep circling, you will ...   1/28/17    0.0   \n",
       "4             Homemade pasta is the best in the area   2/25/17    0.0   \n",
       "\n",
       "              business_id                 user_id  \n",
       "0  jH19V2I9fIslnNhDzPmdkA  ZcLKXikTHYOnYt5VYRO5sg  \n",
       "1  dAa0hB2yrnHzVmsCkN4YvQ  oaYhjqBbh18ZhU0bpyzSuw  \n",
       "2  dAa0hB2yrnHzVmsCkN4YvQ  ulQ8Nyj7jCUR8M83SUMoRQ  \n",
       "3  ESzO3Av0b1_TzKOiqzbQYQ  ulQ8Nyj7jCUR8M83SUMoRQ  \n",
       "4  k7WRPbDd7rztjHcGGkEjlw  ulQ8Nyj7jCUR8M83SUMoRQ  "
      ]
     },
     "execution_count": 2,
     "metadata": {},
     "output_type": "execute_result"
    }
   ],
   "source": [
    "data = pd.read_csv(\"yelp_tip_api.csv\")\n",
    "data.head()"
   ]
  },
  {
   "cell_type": "code",
   "execution_count": 4,
   "metadata": {},
   "outputs": [],
   "source": [
    "# comprehend = boto3.client(service_name='comprehend')"
   ]
  },
  {
   "cell_type": "code",
   "execution_count": 6,
   "metadata": {},
   "outputs": [
    {
     "name": "stdout",
     "output_type": "stream",
     "text": [
      "Collecting google.cloud\n",
      "  Downloading google_cloud-0.32.0-py2.py3-none-any.whl\n",
      "Collecting google-cloud-spanner<0.30dev,>=0.29.0 (from google.cloud)\n",
      "  Downloading google_cloud_spanner-0.29.0-py2.py3-none-any.whl (133kB)\n",
      "\u001b[K    100% |████████████████████████████████| 143kB 3.6MB/s ta 0:00:01\n",
      "\u001b[?25hCollecting google-cloud-datastore<1.5dev,>=1.4.0 (from google.cloud)\n",
      "  Downloading google_cloud_datastore-1.4.0-py2.py3-none-any.whl (44kB)\n",
      "\u001b[K    100% |████████████████████████████████| 51kB 7.8MB/s eta 0:00:01\n",
      "\u001b[?25hCollecting google-cloud-translate<1.4dev,>=1.3.0 (from google.cloud)\n",
      "  Downloading google_cloud_translate-1.3.1-py2.py3-none-any.whl\n",
      "Collecting google-cloud-vision<0.30dev,>=0.29.0 (from google.cloud)\n",
      "  Downloading google_cloud_vision-0.29.0-py2.py3-none-any.whl (71kB)\n",
      "\u001b[K    100% |████████████████████████████████| 81kB 8.0MB/s eta 0:00:01\n",
      "\u001b[?25hCollecting google-cloud-logging<1.5dev,>=1.4.0 (from google.cloud)\n",
      "  Downloading google_cloud_logging-1.4.0-py2.py3-none-any.whl (43kB)\n",
      "\u001b[K    100% |████████████████████████████████| 51kB 4.9MB/s eta 0:00:01\n",
      "\u001b[?25hCollecting google-cloud-firestore<0.29dev,>=0.28.0 (from google.cloud)\n",
      "  Downloading google_cloud_firestore-0.28.0-py2.py3-none-any.whl (150kB)\n",
      "\u001b[K    100% |████████████████████████████████| 153kB 3.5MB/s eta 0:00:01\n",
      "\u001b[?25hCollecting google-cloud-speech<0.31dev,>=0.30.0 (from google.cloud)\n",
      "  Downloading google_cloud_speech-0.30.0-py2.py3-none-any.whl (42kB)\n",
      "\u001b[K    100% |████████████████████████████████| 51kB 5.8MB/s eta 0:00:01\n",
      "\u001b[?25hCollecting google-cloud-core<0.29dev,>=0.28.0 (from google.cloud)\n",
      "  Downloading google_cloud_core-0.28.1-py2.py3-none-any.whl\n",
      "Collecting google-cloud-error-reporting<0.29dev,>=0.28.0 (from google.cloud)\n",
      "  Downloading google_cloud_error_reporting-0.28.0-py2.py3-none-any.whl\n",
      "Collecting google-cloud-runtimeconfig<0.29dev,>=0.28.0 (from google.cloud)\n",
      "  Downloading google_cloud_runtimeconfig-0.28.1-py2.py3-none-any.whl\n",
      "Collecting google-cloud-videointelligence<1.1dev,>=1.0.0 (from google.cloud)\n",
      "  Downloading google_cloud_videointelligence-1.0.1-py2.py3-none-any.whl (57kB)\n",
      "\u001b[K    100% |████████████████████████████████| 61kB 8.6MB/s eta 0:00:01\n",
      "\u001b[?25hCollecting google-cloud-pubsub<0.31dev,>=0.30.0 (from google.cloud)\n",
      "  Downloading google_cloud_pubsub-0.30.1-py2.py3-none-any.whl (88kB)\n",
      "\u001b[K    100% |████████████████████████████████| 92kB 5.9MB/s eta 0:00:01\n",
      "\u001b[?25hCollecting google-cloud-storage<1.7dev,>=1.6.0 (from google.cloud)\n",
      "  Downloading google_cloud_storage-1.6.0-py2.py3-none-any.whl (51kB)\n",
      "\u001b[K    100% |████████████████████████████████| 61kB 5.5MB/s eta 0:00:01\n",
      "\u001b[?25hCollecting google-cloud-monitoring<0.29dev,>=0.28.0 (from google.cloud)\n",
      "  Downloading google_cloud_monitoring-0.28.1-py2.py3-none-any.whl\n",
      "Collecting google-cloud-bigquery-datatransfer<0.2dev,>=0.1.0 (from google.cloud)\n",
      "  Downloading google_cloud_bigquery_datatransfer-0.1.1-py2.py3-none-any.whl\n",
      "Collecting google-cloud-dns<0.29dev,>=0.28.0 (from google.cloud)\n",
      "  Downloading google_cloud_dns-0.28.0-py2.py3-none-any.whl\n",
      "Collecting google-cloud-container<0.2dev,>=0.1.0 (from google.cloud)\n",
      "  Downloading google_cloud_container-0.1.1-py2.py3-none-any.whl (50kB)\n",
      "\u001b[K    100% |████████████████████████████████| 51kB 4.7MB/s eta 0:00:01\n",
      "\u001b[?25hCollecting google-cloud-language<1.1dev,>=1.0.0 (from google.cloud)\n",
      "  Downloading google_cloud_language-1.0.1-py2.py3-none-any.whl (59kB)\n",
      "\u001b[K    100% |████████████████████████████████| 61kB 9.4MB/s eta 0:00:01\n",
      "\u001b[?25hCollecting google-cloud-trace<0.18dev,>=0.17.0 (from google.cloud)\n",
      "  Downloading google_cloud_trace-0.17.0-py2.py3-none-any.whl (68kB)\n",
      "\u001b[K    100% |████████████████████████████████| 71kB 5.6MB/s eta 0:00:01\n",
      "\u001b[?25hCollecting google-cloud-bigquery<0.29dev,>=0.28.0 (from google.cloud)\n",
      "  Downloading google_cloud_bigquery-0.28.0-py2.py3-none-any.whl (64kB)\n",
      "\u001b[K    100% |████████████████████████████████| 71kB 6.3MB/s eta 0:00:01\n",
      "\u001b[?25hCollecting google-cloud-resource-manager<0.29dev,>=0.28.0 (from google.cloud)\n",
      "  Downloading google_cloud_resource_manager-0.28.1-py2.py3-none-any.whl\n",
      "Collecting google-cloud-bigtable<0.29dev,>=0.28.1 (from google.cloud)\n",
      "  Downloading google_cloud_bigtable-0.28.1-py2.py3-none-any.whl (88kB)\n",
      "\u001b[K    100% |████████████████████████████████| 92kB 6.5MB/s eta 0:00:01\n",
      "\u001b[?25hCollecting google-api-core<0.2.0dev,>=0.1.2 (from google.cloud)\n",
      "  Downloading google_api_core-0.1.4-py2.py3-none-any.whl (50kB)\n",
      "\u001b[K    100% |████████████████████████████████| 51kB 5.0MB/s eta 0:00:01\n",
      "\u001b[?25hCollecting google-gax<0.16dev,>=0.15.15 (from google-cloud-spanner<0.30dev,>=0.29.0->google.cloud)\n",
      "  Downloading google_gax-0.15.16-py2.py3-none-any.whl (46kB)\n",
      "\u001b[K    100% |████████████████████████████████| 51kB 8.4MB/s eta 0:00:01\n",
      "\u001b[?25hCollecting google-auth>=1.1.0 (from google-cloud-spanner<0.30dev,>=0.29.0->google.cloud)\n",
      "  Downloading google_auth-1.4.1-py2.py3-none-any.whl (65kB)\n",
      "\u001b[K    100% |████████████████████████████████| 71kB 6.2MB/s eta 0:00:01\n",
      "\u001b[?25hCollecting grpc-google-iam-v1<0.12dev,>=0.11.4 (from google-cloud-spanner<0.30dev,>=0.29.0->google.cloud)\n",
      "  Downloading grpc-google-iam-v1-0.11.4.tar.gz\n",
      "    Complete output from command python setup.py egg_info:\n",
      "    Traceback (most recent call last):\n",
      "      File \"<string>\", line 1, in <module>\n",
      "      File \"/Library/Frameworks/Python.framework/Versions/3.6/lib/python3.6/site-packages/setuptools/__init__.py\", line 10, in <module>\n",
      "        from setuptools.extern.six.moves import filter, filterfalse, map\n",
      "      File \"/Library/Frameworks/Python.framework/Versions/3.6/lib/python3.6/site-packages/setuptools/extern/__init__.py\", line 1, in <module>\n",
      "        from pkg_resources.extern import VendorImporter\n",
      "      File \"/Library/Frameworks/Python.framework/Versions/3.6/lib/python3.6/site-packages/pkg_resources/__init__.py\", line 3017, in <module>\n",
      "        @_call_aside\n",
      "      File \"/Library/Frameworks/Python.framework/Versions/3.6/lib/python3.6/site-packages/pkg_resources/__init__.py\", line 3003, in _call_aside\n",
      "        f(*args, **kwargs)\n",
      "      File \"/Library/Frameworks/Python.framework/Versions/3.6/lib/python3.6/site-packages/pkg_resources/__init__.py\", line 3045, in _initialize_master_working_set\n",
      "        dist.activate(replace=False)\n",
      "      File \"/Library/Frameworks/Python.framework/Versions/3.6/lib/python3.6/site-packages/pkg_resources/__init__.py\", line 2577, in activate\n",
      "        declare_namespace(pkg)\n",
      "      File \"/Library/Frameworks/Python.framework/Versions/3.6/lib/python3.6/site-packages/pkg_resources/__init__.py\", line 2151, in declare_namespace\n",
      "        _handle_ns(packageName, path_item)\n",
      "      File \"/Library/Frameworks/Python.framework/Versions/3.6/lib/python3.6/site-packages/pkg_resources/__init__.py\", line 2091, in _handle_ns\n",
      "        _rebuild_mod_path(path, packageName, module)\n",
      "      File \"/Library/Frameworks/Python.framework/Versions/3.6/lib/python3.6/site-packages/pkg_resources/__init__.py\", line 2120, in _rebuild_mod_path\n",
      "        orig_path.sort(key=position_in_sys_path)\n",
      "    AttributeError: '_NamespacePath' object has no attribute 'sort'\n",
      "    \n",
      "    ----------------------------------------\n",
      "\u001b[31mCommand \"python setup.py egg_info\" failed with error code 1 in /private/var/folders/my/_b5fk6h16g147xk0nvf5vqw80000gn/T/pip-build-8dqqwwaa/grpc-google-iam-v1/\u001b[0m\n"
     ]
    }
   ],
   "source": [
    "#!pip3 install google.cloud"
   ]
  },
  {
   "cell_type": "code",
   "execution_count": 7,
   "metadata": {},
   "outputs": [
    {
     "ename": "ModuleNotFoundError",
     "evalue": "No module named 'google.cloud'",
     "output_type": "error",
     "traceback": [
      "\u001b[0;31m---------------------------------------------------------------------------\u001b[0m",
      "\u001b[0;31mModuleNotFoundError\u001b[0m                       Traceback (most recent call last)",
      "\u001b[0;32m<ipython-input-7-b2c9deaeebce>\u001b[0m in \u001b[0;36m<module>\u001b[0;34m()\u001b[0m\n\u001b[1;32m      1\u001b[0m \u001b[0;31m# Imports the Google Cloud client library\u001b[0m\u001b[0;34m\u001b[0m\u001b[0;34m\u001b[0m\u001b[0m\n\u001b[0;32m----> 2\u001b[0;31m \u001b[0;32mfrom\u001b[0m \u001b[0mgoogle\u001b[0m\u001b[0;34m.\u001b[0m\u001b[0mcloud\u001b[0m \u001b[0;32mimport\u001b[0m \u001b[0mlanguage\u001b[0m\u001b[0;34m\u001b[0m\u001b[0m\n\u001b[0m\u001b[1;32m      3\u001b[0m \u001b[0;32mfrom\u001b[0m \u001b[0mgoogle\u001b[0m\u001b[0;34m.\u001b[0m\u001b[0mcloud\u001b[0m\u001b[0;34m.\u001b[0m\u001b[0mlanguage\u001b[0m \u001b[0;32mimport\u001b[0m \u001b[0menums\u001b[0m\u001b[0;34m\u001b[0m\u001b[0m\n\u001b[1;32m      4\u001b[0m \u001b[0;32mfrom\u001b[0m \u001b[0mgoogle\u001b[0m\u001b[0;34m.\u001b[0m\u001b[0mcloud\u001b[0m\u001b[0;34m.\u001b[0m\u001b[0mlanguage\u001b[0m \u001b[0;32mimport\u001b[0m \u001b[0mtypes\u001b[0m\u001b[0;34m\u001b[0m\u001b[0m\n",
      "\u001b[0;31mModuleNotFoundError\u001b[0m: No module named 'google.cloud'"
     ]
    }
   ],
   "source": [
    "# Imports the Google Cloud client library\n",
    "from google.cloud import language\n",
    "from google.cloud.language import enums\n",
    "from google.cloud.language import types"
   ]
  },
  {
   "cell_type": "code",
   "execution_count": null,
   "metadata": {},
   "outputs": [],
   "source": []
  }
 ],
 "metadata": {
  "kernelspec": {
   "display_name": "Python 3",
   "language": "python",
   "name": "python3"
  },
  "language_info": {
   "codemirror_mode": {
    "name": "ipython",
    "version": 3
   },
   "file_extension": ".py",
   "mimetype": "text/x-python",
   "name": "python",
   "nbconvert_exporter": "python",
   "pygments_lexer": "ipython3",
   "version": "3.6.3"
  }
 },
 "nbformat": 4,
 "nbformat_minor": 2
}
